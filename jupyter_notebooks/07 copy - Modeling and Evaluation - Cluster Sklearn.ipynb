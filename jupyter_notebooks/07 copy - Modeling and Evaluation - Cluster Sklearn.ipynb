{
  "cells": [
    {
      "cell_type": "markdown",
      "metadata": {
        "id": "0aStgWSO0E0E"
      },
      "source": [
        "# Cluster"
      ]
    },
    {
      "cell_type": "markdown",
      "metadata": {
        "id": "1eLEkw5O0ECa"
      },
      "source": [
        "## Objectives\n",
        "\n",
        "* Fit and evaluate a cluster model to group similar customer behaviour\n",
        "* Understand profile for each cluster\n",
        "\n",
        "\n",
        "## Inputs\n",
        "\n",
        "* outputs/datasets/collection/TelcoCustomerChurn.csv\n",
        "* instructions on which variables to use for data cleaning and feature engineering. They are found on its respectives notebooks.\n",
        "\n",
        "## Outputs\n",
        "\n",
        "* Cluster Pipeline\n",
        "* Train Set\n",
        "* Feature importance plot\n",
        "* Clusters Description\n",
        "* Cluster Silhouette\n"
      ]
    },
    {
      "cell_type": "markdown",
      "metadata": {
        "id": "9uWZXH9LwoQg"
      },
      "source": [
        "---"
      ]
    },
    {
      "cell_type": "markdown",
      "metadata": {},
      "source": [
        "# Change working directory"
      ]
    },
    {
      "cell_type": "markdown",
      "metadata": {},
      "source": [
        "We need to change the working directory from its current folder to its parent folder\n",
        "* We access the current directory with os.getcwd()"
      ]
    },
    {
      "cell_type": "code",
      "execution_count": 1,
      "metadata": {},
      "outputs": [
        {
          "data": {
            "text/plain": [
              "'/workspace/churnometer/jupyter_notebooks'"
            ]
          },
          "execution_count": 1,
          "metadata": {},
          "output_type": "execute_result"
        }
      ],
      "source": [
        "import os\n",
        "current_dir = os.getcwd()\n",
        "current_dir"
      ]
    },
    {
      "cell_type": "markdown",
      "metadata": {},
      "source": [
        "We want to make the parent of the parent of current directory the new current directory\n",
        "* os.path.dirname() gets the parent directory\n",
        "* os.chir() defines the new current directory"
      ]
    },
    {
      "cell_type": "code",
      "execution_count": 2,
      "metadata": {},
      "outputs": [
        {
          "name": "stdout",
          "output_type": "stream",
          "text": [
            "You set a new current directory\n"
          ]
        }
      ],
      "source": [
        "os.chdir(os.path.dirname(current_dir))\n",
        "print(\"You set a new current directory\")"
      ]
    },
    {
      "cell_type": "markdown",
      "metadata": {},
      "source": [
        "Confirm the new current directory"
      ]
    },
    {
      "cell_type": "code",
      "execution_count": 3,
      "metadata": {},
      "outputs": [
        {
          "data": {
            "text/plain": [
              "'/workspace/churnometer'"
            ]
          },
          "execution_count": 3,
          "metadata": {},
          "output_type": "execute_result"
        }
      ],
      "source": [
        "current_dir = os.getcwd()\n",
        "current_dir"
      ]
    },
    {
      "cell_type": "markdown",
      "metadata": {
        "id": "pXKlJFX0iuM5"
      },
      "source": [
        "---"
      ]
    },
    {
      "cell_type": "markdown",
      "metadata": {
        "id": "-mavJ8DibrcQ"
      },
      "source": [
        "# Load Data"
      ]
    },
    {
      "cell_type": "code",
      "execution_count": 4,
      "metadata": {
        "id": "Xk7DU_ekbtX8"
      },
      "outputs": [
        {
          "name": "stdout",
          "output_type": "stream",
          "text": [
            "(7043, 17)\n"
          ]
        },
        {
          "data": {
            "text/html": [
              "<div>\n",
              "<style scoped>\n",
              "    .dataframe tbody tr th:only-of-type {\n",
              "        vertical-align: middle;\n",
              "    }\n",
              "\n",
              "    .dataframe tbody tr th {\n",
              "        vertical-align: top;\n",
              "    }\n",
              "\n",
              "    .dataframe thead th {\n",
              "        text-align: right;\n",
              "    }\n",
              "</style>\n",
              "<table border=\"1\" class=\"dataframe\">\n",
              "  <thead>\n",
              "    <tr style=\"text-align: right;\">\n",
              "      <th></th>\n",
              "      <th>gender</th>\n",
              "      <th>SeniorCitizen</th>\n",
              "      <th>Partner</th>\n",
              "      <th>Dependents</th>\n",
              "      <th>PhoneService</th>\n",
              "      <th>MultipleLines</th>\n",
              "      <th>InternetService</th>\n",
              "      <th>OnlineSecurity</th>\n",
              "      <th>OnlineBackup</th>\n",
              "      <th>DeviceProtection</th>\n",
              "      <th>TechSupport</th>\n",
              "      <th>StreamingTV</th>\n",
              "      <th>StreamingMovies</th>\n",
              "      <th>Contract</th>\n",
              "      <th>PaperlessBilling</th>\n",
              "      <th>PaymentMethod</th>\n",
              "      <th>MonthlyCharges</th>\n",
              "    </tr>\n",
              "  </thead>\n",
              "  <tbody>\n",
              "    <tr>\n",
              "      <th>0</th>\n",
              "      <td>Female</td>\n",
              "      <td>0</td>\n",
              "      <td>Yes</td>\n",
              "      <td>No</td>\n",
              "      <td>No</td>\n",
              "      <td>No phone service</td>\n",
              "      <td>DSL</td>\n",
              "      <td>No</td>\n",
              "      <td>Yes</td>\n",
              "      <td>No</td>\n",
              "      <td>No</td>\n",
              "      <td>No</td>\n",
              "      <td>No</td>\n",
              "      <td>Month-to-month</td>\n",
              "      <td>Yes</td>\n",
              "      <td>Electronic check</td>\n",
              "      <td>29.85</td>\n",
              "    </tr>\n",
              "    <tr>\n",
              "      <th>1</th>\n",
              "      <td>Male</td>\n",
              "      <td>0</td>\n",
              "      <td>No</td>\n",
              "      <td>No</td>\n",
              "      <td>Yes</td>\n",
              "      <td>No</td>\n",
              "      <td>DSL</td>\n",
              "      <td>Yes</td>\n",
              "      <td>No</td>\n",
              "      <td>Yes</td>\n",
              "      <td>No</td>\n",
              "      <td>No</td>\n",
              "      <td>No</td>\n",
              "      <td>One year</td>\n",
              "      <td>No</td>\n",
              "      <td>Mailed check</td>\n",
              "      <td>56.95</td>\n",
              "    </tr>\n",
              "    <tr>\n",
              "      <th>2</th>\n",
              "      <td>Male</td>\n",
              "      <td>0</td>\n",
              "      <td>No</td>\n",
              "      <td>No</td>\n",
              "      <td>Yes</td>\n",
              "      <td>No</td>\n",
              "      <td>DSL</td>\n",
              "      <td>Yes</td>\n",
              "      <td>Yes</td>\n",
              "      <td>No</td>\n",
              "      <td>No</td>\n",
              "      <td>No</td>\n",
              "      <td>No</td>\n",
              "      <td>Month-to-month</td>\n",
              "      <td>Yes</td>\n",
              "      <td>Mailed check</td>\n",
              "      <td>53.85</td>\n",
              "    </tr>\n",
              "  </tbody>\n",
              "</table>\n",
              "</div>"
            ],
            "text/plain": [
              "   gender  SeniorCitizen Partner Dependents PhoneService     MultipleLines  \\\n",
              "0  Female              0     Yes         No           No  No phone service   \n",
              "1    Male              0      No         No          Yes                No   \n",
              "2    Male              0      No         No          Yes                No   \n",
              "\n",
              "  InternetService OnlineSecurity OnlineBackup DeviceProtection TechSupport  \\\n",
              "0             DSL             No          Yes               No          No   \n",
              "1             DSL            Yes           No              Yes          No   \n",
              "2             DSL            Yes          Yes               No          No   \n",
              "\n",
              "  StreamingTV StreamingMovies        Contract PaperlessBilling  \\\n",
              "0          No              No  Month-to-month              Yes   \n",
              "1          No              No        One year               No   \n",
              "2          No              No  Month-to-month              Yes   \n",
              "\n",
              "      PaymentMethod  MonthlyCharges  \n",
              "0  Electronic check           29.85  \n",
              "1      Mailed check           56.95  \n",
              "2      Mailed check           53.85  "
            ]
          },
          "execution_count": 4,
          "metadata": {},
          "output_type": "execute_result"
        }
      ],
      "source": [
        "import pandas as pd\n",
        "df = (pd.read_csv(\"outputs/datasets/collection/TelcoCustomerChurn.csv\")\n",
        "      .drop(['customerID', 'TotalCharges', 'Churn', 'tenure' ],axis=1) \n",
        ")\n",
        "print(df.shape)\n",
        "df.head(3)"
      ]
    },
    {
      "cell_type": "markdown",
      "metadata": {
        "id": "krjAk78Tbyhv"
      },
      "source": [
        "# Cluster Pipeline considering all data"
      ]
    },
    {
      "cell_type": "markdown",
      "metadata": {
        "id": "NZWZHhpYaDjf"
      },
      "source": [
        "## ML pipeline for Data Cleaning and Feature Engineering"
      ]
    },
    {
      "cell_type": "code",
      "execution_count": 5,
      "metadata": {
        "id": "C6keis6ao8LA"
      },
      "outputs": [],
      "source": [
        "from sklearn.pipeline import Pipeline\n",
        "\n",
        "### Feature Engineering\n",
        "from feature_engine.encoding import OrdinalEncoder\n",
        "from feature_engine.selection import SmartCorrelatedSelection\n",
        "\n",
        "def PipelineDataCleaningAndFeatureEngineering():\n",
        "  pipeline_base = Pipeline([\n",
        "       \n",
        "      (\"OrdinalCategoricalEncoder\",OrdinalEncoder(encoding_method='arbitrary',\n",
        "                                                  variables = [ 'gender', 'Partner', 'Dependents', 'PhoneService',\n",
        "                                                               'MultipleLines', 'InternetService', 'OnlineSecurity',\n",
        "                                                               'OnlineBackup','DeviceProtection', 'TechSupport', \n",
        "                                                               'StreamingTV', 'StreamingMovies','Contract', \n",
        "                                                               'PaperlessBilling', 'PaymentMethod'])\n",
        "      ),\n",
        "\n",
        "      (\"SmartCorrelatedSelection\",SmartCorrelatedSelection(variables=None, method=\"spearman\", \n",
        "                                                          threshold=0.6, selection_method=\"variance\") ),\n",
        "\n",
        "\n",
        "      (\"scaler\", StandardScaler()  ),\n",
        "      \n",
        "    \n",
        "  ])\n",
        "\n",
        "  return pipeline_base"
      ]
    },
    {
      "cell_type": "markdown",
      "metadata": {
        "id": "SrxSzwiJGzFP"
      },
      "source": [
        "## ML Pipeline for Cluster"
      ]
    },
    {
      "cell_type": "markdown",
      "metadata": {
        "id": "5hNJCrTiClFR"
      },
      "source": [
        "where `n_components` of PCA and `n_clusters` of KMeans will be updated"
      ]
    },
    {
      "cell_type": "code",
      "execution_count": 6,
      "metadata": {
        "id": "eU953c8ZGzUQ"
      },
      "outputs": [
        {
          "data": {
            "text/plain": [
              "Pipeline(steps=[('OrdinalCategoricalEncoder',\n",
              "                 OrdinalEncoder(encoding_method='arbitrary',\n",
              "                                variables=['gender', 'Partner', 'Dependents',\n",
              "                                           'PhoneService', 'MultipleLines',\n",
              "                                           'InternetService', 'OnlineSecurity',\n",
              "                                           'OnlineBackup', 'DeviceProtection',\n",
              "                                           'TechSupport', 'StreamingTV',\n",
              "                                           'StreamingMovies', 'Contract',\n",
              "                                           'PaperlessBilling',\n",
              "                                           'PaymentMethod'])),\n",
              "                ('SmartCorrelatedSelection',\n",
              "                 SmartCorrelatedSelection(method='spearman',\n",
              "                                          selection_method='variance',\n",
              "                                          threshold=0.6)),\n",
              "                ('scaler', StandardScaler()),\n",
              "                ['PCA', PCA(n_components=6, random_state=0)],\n",
              "                ['model', KMeans(n_clusters=4, random_state=0)]])"
            ]
          },
          "execution_count": 6,
          "metadata": {},
          "output_type": "execute_result"
        }
      ],
      "source": [
        "### PCA\n",
        "from sklearn.decomposition import PCA\n",
        "\n",
        "### Feat Scaling\n",
        "from sklearn.preprocessing import StandardScaler\n",
        "\n",
        "### ML algorithms \n",
        "from sklearn.cluster import KMeans\n",
        "\n",
        "def PipelineCluster():\n",
        "  pipe = PipelineDataCleaningAndFeatureEngineering()\n",
        "  # pipe.steps.append([\"scaler\",StandardScaler()])   ##################\n",
        "  pipe.steps.append([\"PCA\",PCA(n_components=6, random_state=0)])\n",
        "  pipe.steps.append([\"model\",KMeans(n_clusters=4, random_state=0)])\n",
        "  return pipe\n",
        "\n",
        "PipelineCluster()"
      ]
    },
    {
      "cell_type": "markdown",
      "metadata": {
        "id": "vzF21hNlG3H9"
      },
      "source": [
        "## ML Pipeline for a classifier to explain the clusters"
      ]
    },
    {
      "cell_type": "markdown",
      "metadata": {
        "id": "g5m15PdrBzFE"
      },
      "source": [
        "We are considering a model that typically offers good results and features importance can be assessed with `.features_importance_`"
      ]
    },
    {
      "cell_type": "code",
      "execution_count": null,
      "metadata": {
        "id": "55qpqXLaG3d9"
      },
      "outputs": [],
      "source": [
        "# ### Feat Selection\n",
        "# from sklearn.feature_selection import SelectFromModel\n",
        "\n",
        "# from sklearn.ensemble import GradientBoostingClassifier\n",
        "# def PipelineClf2ExplainClusters():\n",
        "#    pipe = PipelineDataCleaningAndFeatureEngineering()\n",
        "#    # pipe.steps.append([\"scaler\",StandardScaler()])\n",
        "#    pipe.steps.append([\"feat_selection\",SelectFromModel(GradientBoostingClassifier(random_state=0))])\n",
        "#    pipe.steps.append([\"model\",GradientBoostingClassifier(random_state=0)])\n",
        "#    return pipe\n",
        "  \n",
        "# PipelineClf2ExplainClusters()"
      ]
    },
    {
      "cell_type": "markdown",
      "metadata": {
        "id": "Mrr31sD9DyvY"
      },
      "source": [
        "## Principal Component Analysis (PCA)"
      ]
    },
    {
      "cell_type": "markdown",
      "metadata": {
        "id": "mC9WunDaCuQo"
      },
      "source": [
        "Apply PCA separately to find the most suitable `n_components`, update the value on ML Pipeline for Cluster"
      ]
    },
    {
      "cell_type": "code",
      "execution_count": 7,
      "metadata": {
        "id": "es49S65qqvRw"
      },
      "outputs": [
        {
          "name": "stdout",
          "output_type": "stream",
          "text": [
            "(7043, 12)\n"
          ]
        }
      ],
      "source": [
        "pipeline_pca = PipelineDataCleaningAndFeatureEngineering()\n",
        "df_pca = pipeline_pca.fit_transform(df)\n",
        "print(df_pca.shape)\n",
        "# df_pca.hea"
      ]
    },
    {
      "cell_type": "markdown",
      "metadata": {
        "id": "WlABEj9Iw6Jr"
      },
      "source": [
        "Apply PCA component"
      ]
    },
    {
      "cell_type": "code",
      "execution_count": 8,
      "metadata": {
        "id": "cM_Xsqxsrt5M"
      },
      "outputs": [
        {
          "name": "stdout",
          "output_type": "stream",
          "text": [
            "* The 6 components explain 77.32% of the data \n",
            "\n",
            "             Explained Variance Ratio (%)\n",
            "Component 0                         23.95\n",
            "Component 1                         16.69\n",
            "Component 2                         12.09\n",
            "Component 3                          8.44\n",
            "Component 4                          8.28\n",
            "Component 5                          7.87\n"
          ]
        }
      ],
      "source": [
        "import numpy as np\n",
        "from sklearn.decomposition import PCA\n",
        "\n",
        "n_components = 6\n",
        "\n",
        "pca = PCA(n_components=n_components).fit(df_pca)\n",
        "x_PCA = pca.transform(df_pca) # array with transformed PCA\n",
        "\n",
        "ComponentsList = [\"Component \" + str(number) for number in range(n_components)]\n",
        "dfExplVarRatio = pd.DataFrame(\n",
        "    data= np.round(100 * pca.explained_variance_ratio_ ,2),\n",
        "    index=ComponentsList,\n",
        "    columns=['Explained Variance Ratio (%)'])\n",
        "\n",
        "PercentageOfDataExplained = dfExplVarRatio['Explained Variance Ratio (%)'].sum()\n",
        "\n",
        "print(f\"* The {n_components} components explain {round(PercentageOfDataExplained,2)}% of the data \\n\")\n",
        "print(dfExplVarRatio)"
      ]
    },
    {
      "cell_type": "markdown",
      "metadata": {
        "id": "Uw9NtDj4EtEJ"
      },
      "source": [
        "## Elbow Analysis"
      ]
    },
    {
      "cell_type": "markdown",
      "metadata": {
        "id": "txwWrETeDFS2"
      },
      "source": [
        "Find the most suitable `n_clusters`, update the value on ML Pipeline for Cluster\n"
      ]
    },
    {
      "cell_type": "markdown",
      "metadata": {
        "id": "DOXb_H6iGx6U"
      },
      "source": [
        "Prepare data for analysis\n",
        "  * You need to clean and feature engineer your data using the pipeline without the model"
      ]
    },
    {
      "cell_type": "code",
      "execution_count": 9,
      "metadata": {
        "id": "JVaMnb9vGyBw"
      },
      "outputs": [
        {
          "name": "stdout",
          "output_type": "stream",
          "text": [
            "(7043, 6) \n",
            "\n"
          ]
        },
        {
          "data": {
            "text/plain": [
              "array([[-0.68919356,  3.56339462,  1.97174278,  0.2049194 , -1.22116345,\n",
              "         0.69554574],\n",
              "       [ 0.1415899 ,  0.83772622, -0.70728486, -0.45572329,  0.92179106,\n",
              "        -1.0317484 ],\n",
              "       [-0.82232835,  1.01378854, -0.78350144, -0.68236061,  0.67421507,\n",
              "        -0.64051617],\n",
              "       ...,\n",
              "       [ 0.47325016,  3.1011415 ,  2.66311523, -0.59200886, -1.79012103,\n",
              "         0.93946608],\n",
              "       [-2.3222811 , -0.81720084,  0.24326504, -0.27187354,  1.10540767,\n",
              "         1.76414787],\n",
              "       [-0.01872293, -0.5184082 , -0.19450983,  0.61655991,  1.58558089,\n",
              "        -0.82484869]])"
            ]
          },
          "execution_count": 9,
          "metadata": {},
          "output_type": "execute_result"
        }
      ],
      "source": [
        "pipeline_cluster = PipelineCluster()\n",
        "pipeline_elbow = Pipeline(pipeline_cluster.steps[:-1])\n",
        "df_elbow = pipeline_elbow.fit_transform(df)\n",
        "\n",
        "print(df_elbow.shape,'\\n')\n",
        "df_elbow"
      ]
    },
    {
      "cell_type": "markdown",
      "metadata": {
        "id": "q_1KLQujEvgi"
      },
      "source": [
        "Elbow Analysis"
      ]
    },
    {
      "cell_type": "code",
      "execution_count": 10,
      "metadata": {
        "id": "TZBcHjt7EwFT"
      },
      "outputs": [
        {
          "name": "stderr",
          "output_type": "stream",
          "text": [
            "findfont: Font family ['sans-serif'] not found. Falling back to DejaVu Sans.\n",
            "findfont: Font family ['sans-serif'] not found. Falling back to DejaVu Sans.\n",
            "findfont: Font family ['sans-serif'] not found. Falling back to DejaVu Sans.\n"
          ]
        },
        {
          "data": {
            "image/png": "[encoded data removed]",
            "text/plain": [
              "<Figure size 576x396 with 2 Axes>"
            ]
          },
          "metadata": {},
          "output_type": "display_data"
        }
      ],
      "source": [
        "import matplotlib.pyplot as plt\n",
        "import seaborn as sns\n",
        "sns.set_style(\"whitegrid\")\n",
        "from yellowbrick.cluster import KElbowVisualizer\n",
        "\n",
        "visualizer = KElbowVisualizer(KMeans(random_state=0), k=(1,11))\n",
        "visualizer.fit(df_elbow) \n",
        "visualizer.show() \n",
        "plt.show()"
      ]
    },
    {
      "cell_type": "markdown",
      "metadata": {
        "id": "YQBjAlRsHhU4"
      },
      "source": [
        "## Fit Cluster Pipeline"
      ]
    },
    {
      "cell_type": "markdown",
      "metadata": {
        "id": "kpxaylKk-6CQ"
      },
      "source": [
        "Quick recap in our data for training cluster pipeline"
      ]
    },
    {
      "cell_type": "code",
      "execution_count": 11,
      "metadata": {
        "id": "zfKHc63v-6Zm"
      },
      "outputs": [
        {
          "name": "stdout",
          "output_type": "stream",
          "text": [
            "(7043, 17)\n"
          ]
        },
        {
          "data": {
            "text/html": [
              "<div>\n",
              "<style scoped>\n",
              "    .dataframe tbody tr th:only-of-type {\n",
              "        vertical-align: middle;\n",
              "    }\n",
              "\n",
              "    .dataframe tbody tr th {\n",
              "        vertical-align: top;\n",
              "    }\n",
              "\n",
              "    .dataframe thead th {\n",
              "        text-align: right;\n",
              "    }\n",
              "</style>\n",
              "<table border=\"1\" class=\"dataframe\">\n",
              "  <thead>\n",
              "    <tr style=\"text-align: right;\">\n",
              "      <th></th>\n",
              "      <th>gender</th>\n",
              "      <th>SeniorCitizen</th>\n",
              "      <th>Partner</th>\n",
              "      <th>Dependents</th>\n",
              "      <th>PhoneService</th>\n",
              "      <th>MultipleLines</th>\n",
              "      <th>InternetService</th>\n",
              "      <th>OnlineSecurity</th>\n",
              "      <th>OnlineBackup</th>\n",
              "      <th>DeviceProtection</th>\n",
              "      <th>TechSupport</th>\n",
              "      <th>StreamingTV</th>\n",
              "      <th>StreamingMovies</th>\n",
              "      <th>Contract</th>\n",
              "      <th>PaperlessBilling</th>\n",
              "      <th>PaymentMethod</th>\n",
              "      <th>MonthlyCharges</th>\n",
              "    </tr>\n",
              "  </thead>\n",
              "  <tbody>\n",
              "    <tr>\n",
              "      <th>0</th>\n",
              "      <td>Female</td>\n",
              "      <td>0</td>\n",
              "      <td>Yes</td>\n",
              "      <td>No</td>\n",
              "      <td>No</td>\n",
              "      <td>No phone service</td>\n",
              "      <td>DSL</td>\n",
              "      <td>No</td>\n",
              "      <td>Yes</td>\n",
              "      <td>No</td>\n",
              "      <td>No</td>\n",
              "      <td>No</td>\n",
              "      <td>No</td>\n",
              "      <td>Month-to-month</td>\n",
              "      <td>Yes</td>\n",
              "      <td>Electronic check</td>\n",
              "      <td>29.85</td>\n",
              "    </tr>\n",
              "    <tr>\n",
              "      <th>1</th>\n",
              "      <td>Male</td>\n",
              "      <td>0</td>\n",
              "      <td>No</td>\n",
              "      <td>No</td>\n",
              "      <td>Yes</td>\n",
              "      <td>No</td>\n",
              "      <td>DSL</td>\n",
              "      <td>Yes</td>\n",
              "      <td>No</td>\n",
              "      <td>Yes</td>\n",
              "      <td>No</td>\n",
              "      <td>No</td>\n",
              "      <td>No</td>\n",
              "      <td>One year</td>\n",
              "      <td>No</td>\n",
              "      <td>Mailed check</td>\n",
              "      <td>56.95</td>\n",
              "    </tr>\n",
              "    <tr>\n",
              "      <th>2</th>\n",
              "      <td>Male</td>\n",
              "      <td>0</td>\n",
              "      <td>No</td>\n",
              "      <td>No</td>\n",
              "      <td>Yes</td>\n",
              "      <td>No</td>\n",
              "      <td>DSL</td>\n",
              "      <td>Yes</td>\n",
              "      <td>Yes</td>\n",
              "      <td>No</td>\n",
              "      <td>No</td>\n",
              "      <td>No</td>\n",
              "      <td>No</td>\n",
              "      <td>Month-to-month</td>\n",
              "      <td>Yes</td>\n",
              "      <td>Mailed check</td>\n",
              "      <td>53.85</td>\n",
              "    </tr>\n",
              "  </tbody>\n",
              "</table>\n",
              "</div>"
            ],
            "text/plain": [
              "   gender  SeniorCitizen Partner Dependents PhoneService     MultipleLines  \\\n",
              "0  Female              0     Yes         No           No  No phone service   \n",
              "1    Male              0      No         No          Yes                No   \n",
              "2    Male              0      No         No          Yes                No   \n",
              "\n",
              "  InternetService OnlineSecurity OnlineBackup DeviceProtection TechSupport  \\\n",
              "0             DSL             No          Yes               No          No   \n",
              "1             DSL            Yes           No              Yes          No   \n",
              "2             DSL            Yes          Yes               No          No   \n",
              "\n",
              "  StreamingTV StreamingMovies        Contract PaperlessBilling  \\\n",
              "0          No              No  Month-to-month              Yes   \n",
              "1          No              No        One year               No   \n",
              "2          No              No  Month-to-month              Yes   \n",
              "\n",
              "      PaymentMethod  MonthlyCharges  \n",
              "0  Electronic check           29.85  \n",
              "1      Mailed check           56.95  \n",
              "2      Mailed check           53.85  "
            ]
          },
          "execution_count": 11,
          "metadata": {},
          "output_type": "execute_result"
        }
      ],
      "source": [
        "X = df.copy()\n",
        "print(X.shape)\n",
        "X.head(3)"
      ]
    },
    {
      "cell_type": "markdown",
      "metadata": {
        "id": "NfRpKC4Ykreg"
      },
      "source": [
        "Fit Cluster pipeline"
      ]
    },
    {
      "cell_type": "code",
      "execution_count": 12,
      "metadata": {
        "id": "MAiyUpTWHjQh"
      },
      "outputs": [
        {
          "data": {
            "text/plain": [
              "Pipeline(steps=[('OrdinalCategoricalEncoder',\n",
              "                 OrdinalEncoder(encoding_method='arbitrary',\n",
              "                                variables=['gender', 'Partner', 'Dependents',\n",
              "                                           'PhoneService', 'MultipleLines',\n",
              "                                           'InternetService', 'OnlineSecurity',\n",
              "                                           'OnlineBackup', 'DeviceProtection',\n",
              "                                           'TechSupport', 'StreamingTV',\n",
              "                                           'StreamingMovies', 'Contract',\n",
              "                                           'PaperlessBilling',\n",
              "                                           'PaymentMethod'])),\n",
              "                ('SmartCorrelatedSelecti...\n",
              "                                                     'Partner', 'Dependents',\n",
              "                                                     'PhoneService',\n",
              "                                                     'MultipleLines',\n",
              "                                                     'InternetService',\n",
              "                                                     'OnlineSecurity',\n",
              "                                                     'OnlineBackup',\n",
              "                                                     'DeviceProtection',\n",
              "                                                     'TechSupport',\n",
              "                                                     'StreamingTV',\n",
              "                                                     'StreamingMovies',\n",
              "                                                     'Contract',\n",
              "                                                     'PaperlessBilling',\n",
              "                                                     'PaymentMethod',\n",
              "                                                     'MonthlyCharges'])),\n",
              "                ('scaler', StandardScaler()),\n",
              "                ('PCA', PCA(n_components=6, random_state=0)),\n",
              "                ['model', KMeans(n_clusters=4, random_state=0)]])"
            ]
          },
          "execution_count": 12,
          "metadata": {},
          "output_type": "execute_result"
        }
      ],
      "source": [
        "pipeline_cluster = PipelineCluster()\n",
        "pipeline_cluster.fit(X)"
      ]
    },
    {
      "cell_type": "markdown",
      "metadata": {
        "id": "0L0iMkjJHXSI"
      },
      "source": [
        "## Add cluster labels to dataset"
      ]
    },
    {
      "cell_type": "markdown",
      "metadata": {
        "id": "ZKT5IjmTmei8"
      },
      "source": [
        "We add a column \"`Clusters`\" (with the cluster pipeline predictions) to the dataset\n",
        "* There are clusters with more user than other clusters"
      ]
    },
    {
      "cell_type": "code",
      "execution_count": 13,
      "metadata": {
        "id": "ow8B0xVdmlgK"
      },
      "outputs": [
        {
          "name": "stdout",
          "output_type": "stream",
          "text": [
            "* Clusters frequencies \n",
            "   Clusters\n",
            "0      0.40\n",
            "2      0.29\n",
            "3      0.22\n",
            "1      0.10 \n",
            "\n",
            "\n"
          ]
        },
        {
          "data": {
            "image/png": "[encoded data removed]",
            "text/plain": [
              "<Figure size 576x396 with 1 Axes>"
            ]
          },
          "metadata": {},
          "output_type": "display_data"
        }
      ],
      "source": [
        "X['Clusters'] = pipeline_cluster['model'].labels_\n",
        "\n",
        "print(f\"* Clusters frequencies \\n{ X['Clusters'].value_counts(normalize=True).to_frame().round(2)} \\n\\n\")\n",
        "X['Clusters'].value_counts().sort_values().plot(kind='bar')\n",
        "plt.show()"
      ]
    },
    {
      "cell_type": "markdown",
      "metadata": {
        "id": "MVeCKYbRW9Xi"
      },
      "source": [
        "This is how our data look like from now\n",
        "  * Check the last column: `Clusters`"
      ]
    },
    {
      "cell_type": "code",
      "execution_count": 14,
      "metadata": {
        "id": "eAVrYJEqxYyG"
      },
      "outputs": [
        {
          "name": "stdout",
          "output_type": "stream",
          "text": [
            "(7043, 18)\n"
          ]
        },
        {
          "data": {
            "text/html": [
              "<div>\n",
              "<style scoped>\n",
              "    .dataframe tbody tr th:only-of-type {\n",
              "        vertical-align: middle;\n",
              "    }\n",
              "\n",
              "    .dataframe tbody tr th {\n",
              "        vertical-align: top;\n",
              "    }\n",
              "\n",
              "    .dataframe thead th {\n",
              "        text-align: right;\n",
              "    }\n",
              "</style>\n",
              "<table border=\"1\" class=\"dataframe\">\n",
              "  <thead>\n",
              "    <tr style=\"text-align: right;\">\n",
              "      <th></th>\n",
              "      <th>gender</th>\n",
              "      <th>SeniorCitizen</th>\n",
              "      <th>Partner</th>\n",
              "      <th>Dependents</th>\n",
              "      <th>PhoneService</th>\n",
              "      <th>MultipleLines</th>\n",
              "      <th>InternetService</th>\n",
              "      <th>OnlineSecurity</th>\n",
              "      <th>OnlineBackup</th>\n",
              "      <th>DeviceProtection</th>\n",
              "      <th>TechSupport</th>\n",
              "      <th>StreamingTV</th>\n",
              "      <th>StreamingMovies</th>\n",
              "      <th>Contract</th>\n",
              "      <th>PaperlessBilling</th>\n",
              "      <th>PaymentMethod</th>\n",
              "      <th>MonthlyCharges</th>\n",
              "      <th>Clusters</th>\n",
              "    </tr>\n",
              "  </thead>\n",
              "  <tbody>\n",
              "    <tr>\n",
              "      <th>0</th>\n",
              "      <td>Female</td>\n",
              "      <td>0</td>\n",
              "      <td>Yes</td>\n",
              "      <td>No</td>\n",
              "      <td>No</td>\n",
              "      <td>No phone service</td>\n",
              "      <td>DSL</td>\n",
              "      <td>No</td>\n",
              "      <td>Yes</td>\n",
              "      <td>No</td>\n",
              "      <td>No</td>\n",
              "      <td>No</td>\n",
              "      <td>No</td>\n",
              "      <td>Month-to-month</td>\n",
              "      <td>Yes</td>\n",
              "      <td>Electronic check</td>\n",
              "      <td>29.85</td>\n",
              "      <td>1</td>\n",
              "    </tr>\n",
              "    <tr>\n",
              "      <th>1</th>\n",
              "      <td>Male</td>\n",
              "      <td>0</td>\n",
              "      <td>No</td>\n",
              "      <td>No</td>\n",
              "      <td>Yes</td>\n",
              "      <td>No</td>\n",
              "      <td>DSL</td>\n",
              "      <td>Yes</td>\n",
              "      <td>No</td>\n",
              "      <td>Yes</td>\n",
              "      <td>No</td>\n",
              "      <td>No</td>\n",
              "      <td>No</td>\n",
              "      <td>One year</td>\n",
              "      <td>No</td>\n",
              "      <td>Mailed check</td>\n",
              "      <td>56.95</td>\n",
              "      <td>0</td>\n",
              "    </tr>\n",
              "    <tr>\n",
              "      <th>2</th>\n",
              "      <td>Male</td>\n",
              "      <td>0</td>\n",
              "      <td>No</td>\n",
              "      <td>No</td>\n",
              "      <td>Yes</td>\n",
              "      <td>No</td>\n",
              "      <td>DSL</td>\n",
              "      <td>Yes</td>\n",
              "      <td>Yes</td>\n",
              "      <td>No</td>\n",
              "      <td>No</td>\n",
              "      <td>No</td>\n",
              "      <td>No</td>\n",
              "      <td>Month-to-month</td>\n",
              "      <td>Yes</td>\n",
              "      <td>Mailed check</td>\n",
              "      <td>53.85</td>\n",
              "      <td>0</td>\n",
              "    </tr>\n",
              "  </tbody>\n",
              "</table>\n",
              "</div>"
            ],
            "text/plain": [
              "   gender  SeniorCitizen Partner Dependents PhoneService     MultipleLines  \\\n",
              "0  Female              0     Yes         No           No  No phone service   \n",
              "1    Male              0      No         No          Yes                No   \n",
              "2    Male              0      No         No          Yes                No   \n",
              "\n",
              "  InternetService OnlineSecurity OnlineBackup DeviceProtection TechSupport  \\\n",
              "0             DSL             No          Yes               No          No   \n",
              "1             DSL            Yes           No              Yes          No   \n",
              "2             DSL            Yes          Yes               No          No   \n",
              "\n",
              "  StreamingTV StreamingMovies        Contract PaperlessBilling  \\\n",
              "0          No              No  Month-to-month              Yes   \n",
              "1          No              No        One year               No   \n",
              "2          No              No  Month-to-month              Yes   \n",
              "\n",
              "      PaymentMethod  MonthlyCharges  Clusters  \n",
              "0  Electronic check           29.85         1  \n",
              "1      Mailed check           56.95         0  \n",
              "2      Mailed check           53.85         0  "
            ]
          },
          "execution_count": 14,
          "metadata": {},
          "output_type": "execute_result"
        }
      ],
      "source": [
        "print(X.shape)\n",
        "X.head(3)"
      ]
    },
    {
      "cell_type": "markdown",
      "metadata": {
        "id": "MnjHhYjXng2r"
      },
      "source": [
        "Here we are saving the cluster predictions for this pipeline to use in a fututre moment. We will get back to that soon"
      ]
    },
    {
      "cell_type": "code",
      "execution_count": 15,
      "metadata": {
        "id": "FWgb0kPOWtMa"
      },
      "outputs": [
        {
          "data": {
            "text/plain": [
              "0       1\n",
              "1       0\n",
              "2       0\n",
              "3       1\n",
              "4       0\n",
              "       ..\n",
              "7038    2\n",
              "7039    2\n",
              "7040    1\n",
              "7041    0\n",
              "7042    2\n",
              "Name: Clusters, Length: 7043, dtype: int32"
            ]
          },
          "execution_count": 15,
          "metadata": {},
          "output_type": "execute_result"
        }
      ],
      "source": [
        "cluster_predictions_with_all_variables = X['Clusters']\n",
        "cluster_predictions_with_all_variables"
      ]
    },
    {
      "cell_type": "markdown",
      "metadata": {
        "id": "hXtmFP_Ulpnd"
      },
      "source": [
        "## Evaluate Clusters silhouette"
      ]
    },
    {
      "cell_type": "markdown",
      "metadata": {
        "id": "dAJj6IZqmrxx"
      },
      "source": [
        "To evaluate clusters silhouete we need:\n",
        "  * data transformed (transform data in the pipeline wihout model step)"
      ]
    },
    {
      "cell_type": "code",
      "execution_count": 16,
      "metadata": {
        "id": "A4j4h-2Shlq4"
      },
      "outputs": [
        {
          "data": {
            "text/plain": [
              "(7043, 6)"
            ]
          },
          "execution_count": 16,
          "metadata": {},
          "output_type": "execute_result"
        }
      ],
      "source": [
        "pipeline_silhouette = Pipeline(pipeline_cluster.steps[:-1])\n",
        "df_transformed = pipeline_silhouette.transform(df)\n",
        "df_transformed.shape"
      ]
    },
    {
      "cell_type": "markdown",
      "metadata": {},
      "source": [
        "Plot silhouttes"
      ]
    },
    {
      "cell_type": "code",
      "execution_count": 17,
      "metadata": {},
      "outputs": [
        {
          "data": {
            "image/png": "[encoded data removed]",
            "text/plain": [
              "<Figure size 576x396 with 1 Axes>"
            ]
          },
          "metadata": {},
          "output_type": "display_data"
        }
      ],
      "source": [
        "from yellowbrick.cluster import SilhouetteVisualizer\n",
        "visualizer = SilhouetteVisualizer(Pipeline(pipeline_cluster.steps[-1:])[0] , colors='yellowbrick')\n",
        "\n",
        "visualizer.fit(df_transformed)\n",
        "visualizer.show()\n",
        "plt.show()"
      ]
    },
    {
      "cell_type": "code",
      "execution_count": 18,
      "metadata": {},
      "outputs": [
        {
          "data": {
            "text/plain": [
              "Pipeline(steps=[('OrdinalCategoricalEncoder',\n",
              "                 OrdinalEncoder(encoding_method='arbitrary',\n",
              "                                variables=['gender', 'Partner', 'Dependents',\n",
              "                                           'PhoneService', 'MultipleLines',\n",
              "                                           'InternetService', 'OnlineSecurity',\n",
              "                                           'OnlineBackup', 'DeviceProtection',\n",
              "                                           'TechSupport', 'StreamingTV',\n",
              "                                           'StreamingMovies', 'Contract',\n",
              "                                           'PaperlessBilling',\n",
              "                                           'PaymentMethod'])),\n",
              "                ('SmartCorrelatedSelecti...\n",
              "                                                     'Partner', 'Dependents',\n",
              "                                                     'PhoneService',\n",
              "                                                     'MultipleLines',\n",
              "                                                     'InternetService',\n",
              "                                                     'OnlineSecurity',\n",
              "                                                     'OnlineBackup',\n",
              "                                                     'DeviceProtection',\n",
              "                                                     'TechSupport',\n",
              "                                                     'StreamingTV',\n",
              "                                                     'StreamingMovies',\n",
              "                                                     'Contract',\n",
              "                                                     'PaperlessBilling',\n",
              "                                                     'PaymentMethod',\n",
              "                                                     'MonthlyCharges'])),\n",
              "                ('scaler', StandardScaler()),\n",
              "                ('PCA', PCA(n_components=6, random_state=0)),\n",
              "                ['model', KMeans(n_clusters=4, random_state=0)]])"
            ]
          },
          "execution_count": 18,
          "metadata": {},
          "output_type": "execute_result"
        }
      ],
      "source": [
        "pipeline_cluster"
      ]
    },
    {
      "cell_type": "markdown",
      "metadata": {
        "id": "sTWTf1rgkQ7b"
      },
      "source": [
        "## Fit a classifier, where target is cluster predictions and features remaining variables"
      ]
    },
    {
      "cell_type": "markdown",
      "metadata": {
        "id": "ipsJSzhhkUiu"
      },
      "source": [
        "We are in a moment where we have predictions from the cluster pipeline, but we don't have a meaning for them yet. \n",
        "* We seek to understand clusters' profile\n",
        "\n",
        "We need to find the most relevant variables, to define each cluster in terms of each relevant variable\n",
        "* Our new dataset has `Clusters`, which will be the **target for a classifier**. The most relevant features for this classifier, will be the most relevant variables when we use a classifier where the target is `Clusters`!"
      ]
    },
    {
      "cell_type": "markdown",
      "metadata": {
        "id": "hP6sGUn0XyDm"
      },
      "source": [
        "We copy `X` to a DataFrame `df_clf`"
      ]
    },
    {
      "cell_type": "code",
      "execution_count": 19,
      "metadata": {
        "id": "OeLq81sm2yAg"
      },
      "outputs": [
        {
          "name": "stdout",
          "output_type": "stream",
          "text": [
            "(7043, 18)\n"
          ]
        },
        {
          "data": {
            "text/html": [
              "<div>\n",
              "<style scoped>\n",
              "    .dataframe tbody tr th:only-of-type {\n",
              "        vertical-align: middle;\n",
              "    }\n",
              "\n",
              "    .dataframe tbody tr th {\n",
              "        vertical-align: top;\n",
              "    }\n",
              "\n",
              "    .dataframe thead th {\n",
              "        text-align: right;\n",
              "    }\n",
              "</style>\n",
              "<table border=\"1\" class=\"dataframe\">\n",
              "  <thead>\n",
              "    <tr style=\"text-align: right;\">\n",
              "      <th></th>\n",
              "      <th>gender</th>\n",
              "      <th>SeniorCitizen</th>\n",
              "      <th>Partner</th>\n",
              "      <th>Dependents</th>\n",
              "      <th>PhoneService</th>\n",
              "      <th>MultipleLines</th>\n",
              "      <th>InternetService</th>\n",
              "      <th>OnlineSecurity</th>\n",
              "      <th>OnlineBackup</th>\n",
              "      <th>DeviceProtection</th>\n",
              "      <th>TechSupport</th>\n",
              "      <th>StreamingTV</th>\n",
              "      <th>StreamingMovies</th>\n",
              "      <th>Contract</th>\n",
              "      <th>PaperlessBilling</th>\n",
              "      <th>PaymentMethod</th>\n",
              "      <th>MonthlyCharges</th>\n",
              "      <th>Clusters</th>\n",
              "    </tr>\n",
              "  </thead>\n",
              "  <tbody>\n",
              "    <tr>\n",
              "      <th>0</th>\n",
              "      <td>Female</td>\n",
              "      <td>0</td>\n",
              "      <td>Yes</td>\n",
              "      <td>No</td>\n",
              "      <td>No</td>\n",
              "      <td>No phone service</td>\n",
              "      <td>DSL</td>\n",
              "      <td>No</td>\n",
              "      <td>Yes</td>\n",
              "      <td>No</td>\n",
              "      <td>No</td>\n",
              "      <td>No</td>\n",
              "      <td>No</td>\n",
              "      <td>Month-to-month</td>\n",
              "      <td>Yes</td>\n",
              "      <td>Electronic check</td>\n",
              "      <td>29.85</td>\n",
              "      <td>1</td>\n",
              "    </tr>\n",
              "    <tr>\n",
              "      <th>1</th>\n",
              "      <td>Male</td>\n",
              "      <td>0</td>\n",
              "      <td>No</td>\n",
              "      <td>No</td>\n",
              "      <td>Yes</td>\n",
              "      <td>No</td>\n",
              "      <td>DSL</td>\n",
              "      <td>Yes</td>\n",
              "      <td>No</td>\n",
              "      <td>Yes</td>\n",
              "      <td>No</td>\n",
              "      <td>No</td>\n",
              "      <td>No</td>\n",
              "      <td>One year</td>\n",
              "      <td>No</td>\n",
              "      <td>Mailed check</td>\n",
              "      <td>56.95</td>\n",
              "      <td>0</td>\n",
              "    </tr>\n",
              "    <tr>\n",
              "      <th>2</th>\n",
              "      <td>Male</td>\n",
              "      <td>0</td>\n",
              "      <td>No</td>\n",
              "      <td>No</td>\n",
              "      <td>Yes</td>\n",
              "      <td>No</td>\n",
              "      <td>DSL</td>\n",
              "      <td>Yes</td>\n",
              "      <td>Yes</td>\n",
              "      <td>No</td>\n",
              "      <td>No</td>\n",
              "      <td>No</td>\n",
              "      <td>No</td>\n",
              "      <td>Month-to-month</td>\n",
              "      <td>Yes</td>\n",
              "      <td>Mailed check</td>\n",
              "      <td>53.85</td>\n",
              "      <td>0</td>\n",
              "    </tr>\n",
              "  </tbody>\n",
              "</table>\n",
              "</div>"
            ],
            "text/plain": [
              "   gender  SeniorCitizen Partner Dependents PhoneService     MultipleLines  \\\n",
              "0  Female              0     Yes         No           No  No phone service   \n",
              "1    Male              0      No         No          Yes                No   \n",
              "2    Male              0      No         No          Yes                No   \n",
              "\n",
              "  InternetService OnlineSecurity OnlineBackup DeviceProtection TechSupport  \\\n",
              "0             DSL             No          Yes               No          No   \n",
              "1             DSL            Yes           No              Yes          No   \n",
              "2             DSL            Yes          Yes               No          No   \n",
              "\n",
              "  StreamingTV StreamingMovies        Contract PaperlessBilling  \\\n",
              "0          No              No  Month-to-month              Yes   \n",
              "1          No              No        One year               No   \n",
              "2          No              No  Month-to-month              Yes   \n",
              "\n",
              "      PaymentMethod  MonthlyCharges  Clusters  \n",
              "0  Electronic check           29.85         1  \n",
              "1      Mailed check           56.95         0  \n",
              "2      Mailed check           53.85         0  "
            ]
          },
          "execution_count": 19,
          "metadata": {},
          "output_type": "execute_result"
        }
      ],
      "source": [
        "df_clf = X.copy()\n",
        "print(df_clf.shape)\n",
        "df_clf.head(3)"
      ]
    },
    {
      "cell_type": "markdown",
      "metadata": {
        "id": "4b3Ei6Os5X3s"
      },
      "source": [
        "Split Train and Test sets"
      ]
    },
    {
      "cell_type": "code",
      "execution_count": 20,
      "metadata": {
        "id": "cgHXehCVyzUl"
      },
      "outputs": [
        {
          "name": "stdout",
          "output_type": "stream",
          "text": [
            "(5634, 17) (1409, 17)\n"
          ]
        }
      ],
      "source": [
        "from sklearn.model_selection import train_test_split\n",
        "X_train, X_test,y_train, y_test = train_test_split(\n",
        "                                    df_clf.drop(['Clusters'],axis=1),\n",
        "                                    df_clf['Clusters'],\n",
        "                                    test_size=0.2,\n",
        "                                    random_state=0\n",
        "                                    )\n",
        "\n",
        "print(X_train.shape, X_test.shape)"
      ]
    },
    {
      "cell_type": "markdown",
      "metadata": {
        "id": "6EZUk-uV5aN8"
      },
      "source": [
        "Create and fit a classifier pipeline to learn most relevant features that determine a cluster "
      ]
    },
    {
      "cell_type": "markdown",
      "metadata": {
        "id": "g5m15PdrBzFE"
      },
      "source": [
        "We are considering a model that typically offers good results and features importance can be assessed with `.features_importance_`"
      ]
    },
    {
      "cell_type": "code",
      "execution_count": 21,
      "metadata": {},
      "outputs": [
        {
          "data": {
            "text/plain": [
              "Pipeline(steps=[('OrdinalCategoricalEncoder',\n",
              "                 OrdinalEncoder(encoding_method='arbitrary',\n",
              "                                variables=['gender', 'Partner', 'Dependents',\n",
              "                                           'PhoneService', 'MultipleLines',\n",
              "                                           'InternetService', 'OnlineSecurity',\n",
              "                                           'OnlineBackup', 'DeviceProtection',\n",
              "                                           'TechSupport', 'StreamingTV',\n",
              "                                           'StreamingMovies', 'Contract',\n",
              "                                           'PaperlessBilling',\n",
              "                                           'PaymentMethod'])),\n",
              "                ('SmartCorrelatedSelection',\n",
              "                 SmartCorrelatedSelection(method='spearman',\n",
              "                                          selection_method='variance',\n",
              "                                          threshold=0.6)),\n",
              "                ('scaler', StandardScaler()),\n",
              "                ['feat_selection',\n",
              "                 SelectFromModel(estimator=GradientBoostingClassifier(random_state=0))],\n",
              "                ['model', GradientBoostingClassifier(random_state=0)]])"
            ]
          },
          "execution_count": 21,
          "metadata": {},
          "output_type": "execute_result"
        }
      ],
      "source": [
        "### Feat Selection\n",
        "from sklearn.feature_selection import SelectFromModel\n",
        "\n",
        "### ML algorithm\n",
        "# from sklearn.ensemble import ExtraTreesClassifier\n",
        "# from sklearn.tree import DecisionTreeClassifier\n",
        "\n",
        "\n",
        "# from sklearn.tree import DecisionTreeClassifier\n",
        "# from sklearn.ensemble import RandomForestClassifier\n",
        "from sklearn.ensemble import GradientBoostingClassifier \n",
        "# from sklearn.ensemble import ExtraTreesClassifier\n",
        "# from sklearn.ensemble import AdaBoostClassifier\n",
        "# from xgboost import XGBClassifier\n",
        "\n",
        "def PipelineClf2ExplainClusters():\n",
        "   pipe = PipelineDataCleaningAndFeatureEngineering()\n",
        "   # pipe.steps.append([\"scaler\",StandardScaler()])\n",
        "   pipe.steps.append([\"feat_selection\",SelectFromModel(GradientBoostingClassifier(random_state=0))])\n",
        "   pipe.steps.append([\"model\",GradientBoostingClassifier(random_state=0)])\n",
        "   return pipe\n",
        "  \n",
        "PipelineClf2ExplainClusters()"
      ]
    },
    {
      "cell_type": "code",
      "execution_count": 22,
      "metadata": {
        "id": "3R7xdg1Av0Ce"
      },
      "outputs": [
        {
          "data": {
            "text/plain": [
              "Pipeline(steps=[('OrdinalCategoricalEncoder',\n",
              "                 OrdinalEncoder(encoding_method='arbitrary',\n",
              "                                variables=['gender', 'Partner', 'Dependents',\n",
              "                                           'PhoneService', 'MultipleLines',\n",
              "                                           'InternetService', 'OnlineSecurity',\n",
              "                                           'OnlineBackup', 'DeviceProtection',\n",
              "                                           'TechSupport', 'StreamingTV',\n",
              "                                           'StreamingMovies', 'Contract',\n",
              "                                           'PaperlessBilling',\n",
              "                                           'PaymentMethod'])),\n",
              "                ('SmartCorrelatedSelecti...\n",
              "                                                     'InternetService',\n",
              "                                                     'OnlineSecurity',\n",
              "                                                     'OnlineBackup',\n",
              "                                                     'DeviceProtection',\n",
              "                                                     'TechSupport',\n",
              "                                                     'StreamingTV',\n",
              "                                                     'StreamingMovies',\n",
              "                                                     'Contract',\n",
              "                                                     'PaperlessBilling',\n",
              "                                                     'PaymentMethod',\n",
              "                                                     'MonthlyCharges'])),\n",
              "                ('scaler', StandardScaler()),\n",
              "                ('feat_selection',\n",
              "                 SelectFromModel(estimator=GradientBoostingClassifier(random_state=0))),\n",
              "                ['model', GradientBoostingClassifier(random_state=0)]])"
            ]
          },
          "execution_count": 22,
          "metadata": {},
          "output_type": "execute_result"
        }
      ],
      "source": [
        "pipeline_clf_cluster = PipelineClf2ExplainClusters()\n",
        "pipeline_clf_cluster.fit(X_train, y_train)"
      ]
    },
    {
      "cell_type": "markdown",
      "metadata": {
        "id": "z05LMFoZ4T2K"
      },
      "source": [
        "## Evaluate classifier performance on Train and Test Sets"
      ]
    },
    {
      "cell_type": "code",
      "execution_count": 23,
      "metadata": {
        "id": "M1iqL2Kc544K"
      },
      "outputs": [
        {
          "name": "stdout",
          "output_type": "stream",
          "text": [
            "              precision    recall  f1-score   support\n",
            "\n",
            "           0       0.88      0.92      0.90      2222\n",
            "           1       1.00      1.00      1.00       542\n",
            "           2       0.89      0.83      0.86      1647\n",
            "           3       1.00      1.00      1.00      1223\n",
            "\n",
            "    accuracy                           0.92      5634\n",
            "   macro avg       0.94      0.94      0.94      5634\n",
            "weighted avg       0.92      0.92      0.92      5634\n",
            "\n"
          ]
        }
      ],
      "source": [
        "from sklearn.metrics import classification_report\n",
        "print(classification_report(y_train, pipeline_clf_cluster.predict(X_train)))"
      ]
    },
    {
      "cell_type": "code",
      "execution_count": 24,
      "metadata": {
        "id": "0Oo4xJMZ615p"
      },
      "outputs": [
        {
          "name": "stdout",
          "output_type": "stream",
          "text": [
            "              precision    recall  f1-score   support\n",
            "\n",
            "           0       0.87      0.90      0.88       565\n",
            "           1       1.00      1.00      1.00       140\n",
            "           2       0.85      0.80      0.83       399\n",
            "           3       1.00      1.00      1.00       305\n",
            "\n",
            "    accuracy                           0.90      1409\n",
            "   macro avg       0.93      0.93      0.93      1409\n",
            "weighted avg       0.90      0.90      0.90      1409\n",
            "\n"
          ]
        }
      ],
      "source": [
        "print(classification_report(y_test, pipeline_clf_cluster.predict(X_test)))"
      ]
    },
    {
      "cell_type": "markdown",
      "metadata": {
        "id": "MEwjHBSh5ejG"
      },
      "source": [
        "## Assess Most Important Features that define a cluster"
      ]
    },
    {
      "cell_type": "code",
      "execution_count": null,
      "metadata": {},
      "outputs": [],
      "source": [
        "# pipeline_cluster['SmartCorrelatedSelection'].correlated_feature_sets_ # 3 groups"
      ]
    },
    {
      "cell_type": "code",
      "execution_count": null,
      "metadata": {},
      "outputs": [],
      "source": [
        "# pipeline_cluster['SmartCorrelatedSelection'].features_to_drop_ \n",
        "# there was 17, 5 are dropped, we keep 12"
      ]
    },
    {
      "cell_type": "code",
      "execution_count": null,
      "metadata": {},
      "outputs": [],
      "source": [
        "# Pipeline(pipeline_cluster.steps[:data_cleaning_feat_eng_steps])"
      ]
    },
    {
      "cell_type": "code",
      "execution_count": 25,
      "metadata": {},
      "outputs": [
        {
          "data": {
            "text/plain": [
              "[{'DeviceProtection', 'OnlineBackup', 'OnlineSecurity', 'TechSupport'}]"
            ]
          },
          "execution_count": 25,
          "metadata": {},
          "output_type": "execute_result"
        }
      ],
      "source": [
        "pipeline_clf_cluster['SmartCorrelatedSelection'].correlated_feature_sets_ #['feat_selection'].get_support()"
      ]
    },
    {
      "cell_type": "code",
      "execution_count": 26,
      "metadata": {},
      "outputs": [
        {
          "data": {
            "text/plain": [
              "['OnlineSecurity', 'DeviceProtection', 'TechSupport']"
            ]
          },
          "execution_count": 26,
          "metadata": {},
          "output_type": "execute_result"
        }
      ],
      "source": [
        "pipeline_clf_cluster['SmartCorrelatedSelection'].features_to_drop_"
      ]
    },
    {
      "cell_type": "code",
      "execution_count": 27,
      "metadata": {
        "id": "BG5ztHxsKcd5"
      },
      "outputs": [
        {
          "name": "stdout",
          "output_type": "stream",
          "text": [
            "* These are the 5 most important features in descending order. The model was trained on them: \n",
            "['OnlineBackup', 'MonthlyCharges', 'PhoneService', 'Partner', 'Dependents'] \n",
            "\n"
          ]
        },
        {
          "data": {
            "image/png": "[encoded data removed]",
            "text/plain": [
              "<Figure size 576x396 with 1 Axes>"
            ]
          },
          "metadata": {},
          "output_type": "display_data"
        }
      ],
      "source": [
        "# after data cleaning and feat engineering, the feature space changes\n",
        "data_cleaning_feat_eng_steps = 2 # how many data cleaning and feature engineering does your pipeline have?\n",
        "columns_after_data_cleaning_feat_eng = (Pipeline(pipeline_clf_cluster.steps[:data_cleaning_feat_eng_steps])\n",
        "                                        .transform(X_train)\n",
        "                                        .columns)\n",
        "\n",
        "best_features = columns_after_data_cleaning_feat_eng[pipeline_clf_cluster['feat_selection'].get_support()].to_list()\n",
        "\n",
        "# create DataFrame to display feature importance\n",
        "df_feature_importance = (pd.DataFrame(data={\n",
        "          'Feature': columns_after_data_cleaning_feat_eng[pipeline_clf_cluster['feat_selection'].get_support()],\n",
        "          'Importance': pipeline_clf_cluster['model'].feature_importances_})\n",
        "  .sort_values(by='Importance', ascending=False)\n",
        "  )\n",
        "\n",
        "best_features = df_feature_importance['Feature'].to_list() # reassign best features in importance order\n",
        "\n",
        "# Most important features statement and plot\n",
        "print(f\"* These are the {len(best_features)} most important features in descending order. \"\n",
        "      f\"The model was trained on them: \\n{best_features} \\n\")\n",
        "df_feature_importance.plot(kind='bar',x='Feature',y='Importance')\n",
        "plt.show()"
      ]
    },
    {
      "cell_type": "markdown",
      "metadata": {
        "id": "qgul0EF9nx_E"
      },
      "source": [
        "We will store the best_features for future usage. We will get back to that soon"
      ]
    },
    {
      "cell_type": "code",
      "execution_count": 28,
      "metadata": {
        "id": "YzyMkwHznyG8"
      },
      "outputs": [
        {
          "data": {
            "text/plain": [
              "['OnlineBackup', 'MonthlyCharges', 'PhoneService', 'Partner', 'Dependents']"
            ]
          },
          "execution_count": 28,
          "metadata": {},
          "output_type": "execute_result"
        }
      ],
      "source": [
        "best_features_pipeline_all_variables = best_features\n",
        "best_features_pipeline_all_variables"
      ]
    },
    {
      "cell_type": "markdown",
      "metadata": {
        "id": "J2ywCxJmkRQn"
      },
      "source": [
        "## Cluster Analysis"
      ]
    },
    {
      "cell_type": "markdown",
      "metadata": {
        "id": "hZMr-wiudEkb"
      },
      "source": [
        "* Table with description for all Clusters"
      ]
    },
    {
      "cell_type": "code",
      "execution_count": 29,
      "metadata": {
        "id": "_lpRVDqTdEul"
      },
      "outputs": [],
      "source": [
        "def Clusters_IndividualDescription(EDA_Cluster,cluster):\n",
        "\n",
        "  ClustersDescription = pd.DataFrame(columns=EDA_Cluster.columns)\n",
        "  for col in EDA_Cluster.columns:\n",
        "    \n",
        "    try:  # eventually a given cluster will have only mssing data for a given variable\n",
        "      \n",
        "      if EDA_Cluster[col].dtypes == 'object':\n",
        "        \n",
        "        top_frequencies = EDA_Cluster.dropna(subset=[col])[[col]].value_counts(normalize=True).nlargest(n=3)\n",
        "        Description = ''\n",
        "        \n",
        "        for x in range(len(top_frequencies)):\n",
        "          freq = top_frequencies.iloc[x]\n",
        "          category = top_frequencies.index[x][0]\n",
        "          CategoryPercentage = int(round(freq*100,0))\n",
        "          statement =  f\"'{category}': {CategoryPercentage}% , \"  \n",
        "          Description = Description + statement\n",
        "        \n",
        "        ClustersDescription.at[0,col] = Description[:-2]\n",
        "\n",
        "\n",
        "      \n",
        "      elif EDA_Cluster[col].dtypes in ['float', 'int']:\n",
        "        DescStats = EDA_Cluster.dropna(subset=[col])[[col]].describe()\n",
        "        Q1 = int(round(DescStats.iloc[4,0],0))\n",
        "        Q3 = int(round(DescStats.iloc[6,0],0))\n",
        "        Description = f\"{Q1} -- {Q3}\"\n",
        "        ClustersDescription.at[0,col] = Description\n",
        "    \n",
        "    \n",
        "    except Exception as e:\n",
        "      ClustersDescription.at[0,col] = 'Not available'\n",
        "      print(f\"** Error Exception: {e} - cluster {cluster}, variable {col}\")\n",
        "  \n",
        "  ClustersDescription['Cluster'] = str(cluster)\n",
        "  \n",
        "  return ClustersDescription\n",
        "\n",
        "\n",
        "def DescriptionAllClusters(df_cluster_profile):\n",
        "\n",
        "  DescriptionAllClusters = pd.DataFrame(columns=df_cluster_profile.drop(['Clusters'],axis=1).columns)\n",
        "  for cluster in df_cluster_profile.sort_values(by='Clusters')['Clusters'].unique():\n",
        "    \n",
        "      EDA_ClusterSubset = df_cluster_profile.query(f\"Clusters == {cluster}\").drop(['Clusters'],axis=1)\n",
        "      ClusterDescription = Clusters_IndividualDescription(EDA_ClusterSubset,cluster)\n",
        "      DescriptionAllClusters = DescriptionAllClusters.append(ClusterDescription)\n",
        "\n",
        "  \n",
        "  DescriptionAllClusters.set_index(['Cluster'],inplace=True)\n",
        "  return DescriptionAllClusters\n"
      ]
    },
    {
      "cell_type": "markdown",
      "metadata": {
        "id": "OHo7wmH68AYc"
      },
      "source": [
        "* Cluster distribution per Variable (absolute and relative levels)"
      ]
    },
    {
      "cell_type": "code",
      "execution_count": 30,
      "metadata": {
        "id": "NN23X2dT8AeA"
      },
      "outputs": [],
      "source": [
        "import plotly.express as px\n",
        "def cluster_distribution_per_variable(df,target):\n",
        "\n",
        "\n",
        "  df_bar_plot = df.value_counts([\"Clusters\", target]).reset_index() \n",
        "  df_bar_plot.columns = ['Clusters',target,'Count']\n",
        "  df_bar_plot[target] = df_bar_plot[target].astype('object')\n",
        "\n",
        "  print(f\"Clusters distribution across {target} levels\")\n",
        "  fig = px.bar(df_bar_plot, x='Clusters',y='Count',color=target,width=800, height=500)\n",
        "  fig.update_layout(xaxis=dict(tickmode= 'array',tickvals= df['Clusters'].unique()))\n",
        "  fig.show()\n",
        "\n",
        "\n",
        "  df_relative = (df\n",
        "                 .groupby([\"Clusters\", target])\n",
        "                 .size()\n",
        "                 .groupby(level=0)\n",
        "                 .apply(lambda x:  100*x / x.sum())\n",
        "                 .reset_index()\n",
        "                 .sort_values(by=['Clusters'])\n",
        "                 )\n",
        "  df_relative.columns = ['Clusters',target,'Relative Percentage (%)']\n",
        " \n",
        "\n",
        "  print(f\"Relative Percentage (%) of {target} in each cluster\")\n",
        "  fig = px.line(df_relative, x='Clusters',y='Relative Percentage (%)',color=target,width=800, height=500)\n",
        "  fig.update_layout(xaxis=dict(tickmode= 'array',tickvals= df['Clusters'].unique()))\n",
        "  fig.update_traces(mode='markers+lines')\n",
        "  fig.show()\n",
        " \n"
      ]
    },
    {
      "cell_type": "markdown",
      "metadata": {
        "id": "Ou5ymnDkJJTl"
      },
      "source": [
        "---"
      ]
    },
    {
      "cell_type": "markdown",
      "metadata": {
        "id": "73J7J65v4O_d"
      },
      "source": [
        "We will study the profile for the main variables that define a cluster\n"
      ]
    },
    {
      "cell_type": "code",
      "execution_count": 31,
      "metadata": {
        "id": "PztdhjGl4Vkg"
      },
      "outputs": [
        {
          "data": {
            "text/html": [
              "<div>\n",
              "<style scoped>\n",
              "    .dataframe tbody tr th:only-of-type {\n",
              "        vertical-align: middle;\n",
              "    }\n",
              "\n",
              "    .dataframe tbody tr th {\n",
              "        vertical-align: top;\n",
              "    }\n",
              "\n",
              "    .dataframe thead th {\n",
              "        text-align: right;\n",
              "    }\n",
              "</style>\n",
              "<table border=\"1\" class=\"dataframe\">\n",
              "  <thead>\n",
              "    <tr style=\"text-align: right;\">\n",
              "      <th></th>\n",
              "      <th>OnlineBackup</th>\n",
              "      <th>MonthlyCharges</th>\n",
              "      <th>PhoneService</th>\n",
              "      <th>Partner</th>\n",
              "      <th>Dependents</th>\n",
              "      <th>Clusters</th>\n",
              "    </tr>\n",
              "  </thead>\n",
              "  <tbody>\n",
              "    <tr>\n",
              "      <th>0</th>\n",
              "      <td>Yes</td>\n",
              "      <td>29.85</td>\n",
              "      <td>No</td>\n",
              "      <td>Yes</td>\n",
              "      <td>No</td>\n",
              "      <td>1</td>\n",
              "    </tr>\n",
              "    <tr>\n",
              "      <th>1</th>\n",
              "      <td>No</td>\n",
              "      <td>56.95</td>\n",
              "      <td>Yes</td>\n",
              "      <td>No</td>\n",
              "      <td>No</td>\n",
              "      <td>0</td>\n",
              "    </tr>\n",
              "    <tr>\n",
              "      <th>2</th>\n",
              "      <td>Yes</td>\n",
              "      <td>53.85</td>\n",
              "      <td>Yes</td>\n",
              "      <td>No</td>\n",
              "      <td>No</td>\n",
              "      <td>0</td>\n",
              "    </tr>\n",
              "  </tbody>\n",
              "</table>\n",
              "</div>"
            ],
            "text/plain": [
              "  OnlineBackup  MonthlyCharges PhoneService Partner Dependents  Clusters\n",
              "0          Yes           29.85           No     Yes         No         1\n",
              "1           No           56.95          Yes      No         No         0\n",
              "2          Yes           53.85          Yes      No         No         0"
            ]
          },
          "execution_count": 31,
          "metadata": {},
          "output_type": "execute_result"
        }
      ],
      "source": [
        "df_cluster_profile = df_clf.copy()\n",
        "df_cluster_profile = df_cluster_profile.filter(items=best_features + ['Clusters'], axis=1)\n",
        "df_cluster_profile.head(3)"
      ]
    },
    {
      "cell_type": "markdown",
      "metadata": {
        "id": "-mfJRrFc7wzu"
      },
      "source": [
        "Load Churn levels"
      ]
    },
    {
      "cell_type": "code",
      "execution_count": 32,
      "metadata": {
        "id": "fSRSNqiF4mnm"
      },
      "outputs": [
        {
          "data": {
            "text/html": [
              "<div>\n",
              "<style scoped>\n",
              "    .dataframe tbody tr th:only-of-type {\n",
              "        vertical-align: middle;\n",
              "    }\n",
              "\n",
              "    .dataframe tbody tr th {\n",
              "        vertical-align: top;\n",
              "    }\n",
              "\n",
              "    .dataframe thead th {\n",
              "        text-align: right;\n",
              "    }\n",
              "</style>\n",
              "<table border=\"1\" class=\"dataframe\">\n",
              "  <thead>\n",
              "    <tr style=\"text-align: right;\">\n",
              "      <th></th>\n",
              "      <th>Churn</th>\n",
              "    </tr>\n",
              "  </thead>\n",
              "  <tbody>\n",
              "    <tr>\n",
              "      <th>0</th>\n",
              "      <td>0</td>\n",
              "    </tr>\n",
              "    <tr>\n",
              "      <th>1</th>\n",
              "      <td>0</td>\n",
              "    </tr>\n",
              "    <tr>\n",
              "      <th>2</th>\n",
              "      <td>1</td>\n",
              "    </tr>\n",
              "  </tbody>\n",
              "</table>\n",
              "</div>"
            ],
            "text/plain": [
              "  Churn\n",
              "0     0\n",
              "1     0\n",
              "2     1"
            ]
          },
          "execution_count": 32,
          "metadata": {},
          "output_type": "execute_result"
        }
      ],
      "source": [
        "df_churn = pd.read_csv(\"outputs/datasets/collection/TelcoCustomerChurn.csv\").filter(['Churn'])\n",
        "df_churn['Churn'] = df_churn['Churn'].astype('object')\n",
        "df_churn.head(3)"
      ]
    },
    {
      "cell_type": "markdown",
      "metadata": {
        "id": "KtD0Y3NdJOhm"
      },
      "source": [
        "### Cluster profile on most important features"
      ]
    },
    {
      "cell_type": "markdown",
      "metadata": {
        "id": "T0dCJG1zG13D"
      },
      "source": [
        "Considering `df_cluster_profile` and `df_churn`"
      ]
    },
    {
      "cell_type": "code",
      "execution_count": 33,
      "metadata": {
        "id": "LDhycaSEdORm"
      },
      "outputs": [
        {
          "data": {
            "text/html": [
              "<div>\n",
              "<style scoped>\n",
              "    .dataframe tbody tr th:only-of-type {\n",
              "        vertical-align: middle;\n",
              "    }\n",
              "\n",
              "    .dataframe tbody tr th {\n",
              "        vertical-align: top;\n",
              "    }\n",
              "\n",
              "    .dataframe thead th {\n",
              "        text-align: right;\n",
              "    }\n",
              "</style>\n",
              "<table border=\"1\" class=\"dataframe\">\n",
              "  <thead>\n",
              "    <tr style=\"text-align: right;\">\n",
              "      <th></th>\n",
              "      <th>OnlineBackup</th>\n",
              "      <th>MonthlyCharges</th>\n",
              "      <th>PhoneService</th>\n",
              "      <th>Partner</th>\n",
              "      <th>Dependents</th>\n",
              "      <th>Churn</th>\n",
              "    </tr>\n",
              "    <tr>\n",
              "      <th>Cluster</th>\n",
              "      <th></th>\n",
              "      <th></th>\n",
              "      <th></th>\n",
              "      <th></th>\n",
              "      <th></th>\n",
              "      <th></th>\n",
              "    </tr>\n",
              "  </thead>\n",
              "  <tbody>\n",
              "    <tr>\n",
              "      <th>0</th>\n",
              "      <td>'No': 67% , 'Yes': 33%</td>\n",
              "      <td>69 -- 94</td>\n",
              "      <td>'Yes': 100%</td>\n",
              "      <td>'No': 79% , 'Yes': 21%</td>\n",
              "      <td>'No': 96% , 'Yes': 4%</td>\n",
              "      <td>'0': 55% , '1': 45%</td>\n",
              "    </tr>\n",
              "    <tr>\n",
              "      <th>1</th>\n",
              "      <td>'No': 58% , 'Yes': 42%</td>\n",
              "      <td>34 -- 51</td>\n",
              "      <td>'No': 100%</td>\n",
              "      <td>'No': 54% , 'Yes': 46%</td>\n",
              "      <td>'No': 70% , 'Yes': 30%</td>\n",
              "      <td>'0': 75% , '1': 25%</td>\n",
              "    </tr>\n",
              "    <tr>\n",
              "      <th>2</th>\n",
              "      <td>'Yes': 60% , 'No': 40%</td>\n",
              "      <td>73 -- 101</td>\n",
              "      <td>'Yes': 100%</td>\n",
              "      <td>'Yes': 86% , 'No': 14%</td>\n",
              "      <td>'Yes': 56% , 'No': 44%</td>\n",
              "      <td>'0': 84% , '1': 16%</td>\n",
              "    </tr>\n",
              "    <tr>\n",
              "      <th>3</th>\n",
              "      <td>'No internet service': 100% , 'Yes': 0% , 'No': 0%</td>\n",
              "      <td>20 -- 21</td>\n",
              "      <td>'Yes': 100%</td>\n",
              "      <td>'No': 52% , 'Yes': 48%</td>\n",
              "      <td>'No': 58% , 'Yes': 42%</td>\n",
              "      <td>'0': 93% , '1': 7%</td>\n",
              "    </tr>\n",
              "  </tbody>\n",
              "</table>\n",
              "</div>"
            ],
            "text/plain": [
              "                                                OnlineBackup MonthlyCharges  \\\n",
              "Cluster                                                                       \n",
              "0                                    'No': 67% , 'Yes': 33%        69 -- 94   \n",
              "1                                    'No': 58% , 'Yes': 42%        34 -- 51   \n",
              "2                                    'Yes': 60% , 'No': 40%       73 -- 101   \n",
              "3        'No internet service': 100% , 'Yes': 0% , 'No': 0%        20 -- 21   \n",
              "\n",
              "         PhoneService                  Partner               Dependents  \\\n",
              "Cluster                                                                   \n",
              "0        'Yes': 100%   'No': 79% , 'Yes': 21%    'No': 96% , 'Yes': 4%    \n",
              "1         'No': 100%   'No': 54% , 'Yes': 46%   'No': 70% , 'Yes': 30%    \n",
              "2        'Yes': 100%   'Yes': 86% , 'No': 14%   'Yes': 56% , 'No': 44%    \n",
              "3        'Yes': 100%   'No': 52% , 'Yes': 48%   'No': 58% , 'Yes': 42%    \n",
              "\n",
              "                        Churn  \n",
              "Cluster                        \n",
              "0        '0': 55% , '1': 45%   \n",
              "1        '0': 75% , '1': 25%   \n",
              "2        '0': 84% , '1': 16%   \n",
              "3         '0': 93% , '1': 7%   "
            ]
          },
          "execution_count": 33,
          "metadata": {},
          "output_type": "execute_result"
        }
      ],
      "source": [
        "pd.set_option('display.max_colwidth', None)\n",
        "clusters_profile = DescriptionAllClusters(pd.concat([df_cluster_profile,df_churn], axis=1))\n",
        "clusters_profile"
      ]
    },
    {
      "cell_type": "markdown",
      "metadata": {
        "id": "2SS6CCCb74lH"
      },
      "source": [
        "### Clusters distribution across Churn levels & Relative Percentage of Churn in each cluster"
      ]
    },
    {
      "cell_type": "code",
      "execution_count": null,
      "metadata": {
        "id": "kwEUdPI2NHOb"
      },
      "outputs": [],
      "source": [
        "df_cluster_vs_churn=  df_churn.copy()\n",
        "df_cluster_vs_churn['Clusters'] = X['Clusters']\n",
        "cluster_distribution_per_variable(df=df_cluster_vs_churn, target='Churn')"
      ]
    },
    {
      "cell_type": "markdown",
      "metadata": {
        "id": "iEfOvjx8ZhAH"
      },
      "source": [
        "# Fit New Cluster Pipeline only on most important features"
      ]
    },
    {
      "cell_type": "markdown",
      "metadata": {
        "id": "MFno4XnSZlZV"
      },
      "source": [
        "In order to reduce feature space, we will study the trade-off between the previous Cluster Pipeline (fitted with all variables) and Pipeline with the variables that are most important to define the clusters from the previous pipeline"
      ]
    },
    {
      "cell_type": "code",
      "execution_count": 35,
      "metadata": {
        "id": "ROH8cre2PHWx"
      },
      "outputs": [
        {
          "data": {
            "text/plain": [
              "['OnlineBackup', 'MonthlyCharges', 'PhoneService', 'Partner', 'Dependents']"
            ]
          },
          "execution_count": 35,
          "metadata": {},
          "output_type": "execute_result"
        }
      ],
      "source": [
        "best_features_pipeline_all_variables"
      ]
    },
    {
      "cell_type": "markdown",
      "metadata": {
        "id": "cLOL2zr4Jr68"
      },
      "source": [
        "## Define trade-off and metrics to compare new and previous Cluster Pipeline"
      ]
    },
    {
      "cell_type": "markdown",
      "metadata": {
        "id": "eJyxkSowZ9Cm"
      },
      "source": [
        "To evaluate this trade-off we will\n",
        "1. Conduct a PCA analysis, with the same amount of components from \n",
        "previous study, in a dataset only with `best_features_pipeline_all_variables` and check if new components have still almost all data variance \n",
        "2. Conduct a elbow study and check if the same number of clusters is suggested\n",
        "3. Fit new cluster pipeline and compare if the both clusters predictions are \"equivalent\"\n",
        "4. Compare silhoutte score\n",
        "5. Fit a classifier to explain cluster, and check if performance on Train and Test sets is similar\n",
        "6. Check if the most important features for the classifier are the same.\n",
        "7. Compare if the cluster profile from both cases are \"equivalent\"\n",
        "\n",
        "If we are happy to say **yes** for them, you can use a cluster pipeline with a reduced feature space!\n",
        "* The **gain** is that in real time (which is the major purpose of Machine Learning) you will need less variables for predicting cluster for your prospects."
      ]
    },
    {
      "cell_type": "markdown",
      "metadata": {
        "id": "DxyTpm4EJx4s"
      },
      "source": [
        "## Consider the data with the most relevant variables"
      ]
    },
    {
      "cell_type": "code",
      "execution_count": 36,
      "metadata": {
        "id": "lQu9033oZ6r9"
      },
      "outputs": [
        {
          "data": {
            "text/html": [
              "<div>\n",
              "<style scoped>\n",
              "    .dataframe tbody tr th:only-of-type {\n",
              "        vertical-align: middle;\n",
              "    }\n",
              "\n",
              "    .dataframe tbody tr th {\n",
              "        vertical-align: top;\n",
              "    }\n",
              "\n",
              "    .dataframe thead th {\n",
              "        text-align: right;\n",
              "    }\n",
              "</style>\n",
              "<table border=\"1\" class=\"dataframe\">\n",
              "  <thead>\n",
              "    <tr style=\"text-align: right;\">\n",
              "      <th></th>\n",
              "      <th>OnlineBackup</th>\n",
              "      <th>MonthlyCharges</th>\n",
              "      <th>PhoneService</th>\n",
              "      <th>Partner</th>\n",
              "      <th>Dependents</th>\n",
              "    </tr>\n",
              "  </thead>\n",
              "  <tbody>\n",
              "    <tr>\n",
              "      <th>0</th>\n",
              "      <td>Yes</td>\n",
              "      <td>29.85</td>\n",
              "      <td>No</td>\n",
              "      <td>Yes</td>\n",
              "      <td>No</td>\n",
              "    </tr>\n",
              "    <tr>\n",
              "      <th>1</th>\n",
              "      <td>No</td>\n",
              "      <td>56.95</td>\n",
              "      <td>Yes</td>\n",
              "      <td>No</td>\n",
              "      <td>No</td>\n",
              "    </tr>\n",
              "    <tr>\n",
              "      <th>2</th>\n",
              "      <td>Yes</td>\n",
              "      <td>53.85</td>\n",
              "      <td>Yes</td>\n",
              "      <td>No</td>\n",
              "      <td>No</td>\n",
              "    </tr>\n",
              "  </tbody>\n",
              "</table>\n",
              "</div>"
            ],
            "text/plain": [
              "  OnlineBackup  MonthlyCharges PhoneService Partner Dependents\n",
              "0          Yes           29.85           No     Yes         No\n",
              "1           No           56.95          Yes      No         No\n",
              "2          Yes           53.85          Yes      No         No"
            ]
          },
          "execution_count": 36,
          "metadata": {},
          "output_type": "execute_result"
        }
      ],
      "source": [
        "df_reduced = df.filter(best_features_pipeline_all_variables)\n",
        "df_reduced.head(3)"
      ]
    },
    {
      "cell_type": "markdown",
      "metadata": {
        "id": "_ub9_YoIeaS5"
      },
      "source": [
        "## Rewrite ML pipeline for Data Cleaning and Feature Engineering"
      ]
    },
    {
      "cell_type": "code",
      "execution_count": 37,
      "metadata": {
        "id": "PrlQuieZeaS6"
      },
      "outputs": [
        {
          "data": {
            "text/plain": [
              "Pipeline(steps=[('OrdinalCategoricalEncoder',\n",
              "                 OrdinalEncoder(encoding_method='arbitrary',\n",
              "                                variables=['OnlineBackup', 'PhoneService',\n",
              "                                           'Partner', 'Dependents'])),\n",
              "                ('scaler', StandardScaler())])"
            ]
          },
          "execution_count": 37,
          "metadata": {},
          "output_type": "execute_result"
        }
      ],
      "source": [
        "def PipelineDataCleaningAndFeatureEngineering():\n",
        "  pipeline_base = Pipeline([\n",
        "        # we updated the pipeline, considering only the most important variables from previous pipeline      \n",
        "       (\"OrdinalCategoricalEncoder\",OrdinalEncoder(encoding_method='arbitrary',\n",
        "                                                  # variables = ['PaymentMethod', 'InternetService',\n",
        "                                                  #              'DeviceProtection','OnlineSecurity']\n",
        "                                                  variables = ['OnlineBackup', 'PhoneService',\n",
        "                                                                'Partner',\t'Dependents'] ) ),\n",
        "\n",
        "        # it doesnt need SmartCorrelation\n",
        "\n",
        "        (\"scaler\", StandardScaler()  ),\n",
        "\n",
        "    ])\n",
        "\n",
        "  return pipeline_base\n",
        "\n",
        "PipelineDataCleaningAndFeatureEngineering()"
      ]
    },
    {
      "cell_type": "code",
      "execution_count": 38,
      "metadata": {},
      "outputs": [
        {
          "data": {
            "text/plain": [
              "Pipeline(steps=[('OrdinalCategoricalEncoder',\n",
              "                 OrdinalEncoder(encoding_method='arbitrary',\n",
              "                                variables=['OnlineBackup', 'PhoneService',\n",
              "                                           'Partner', 'Dependents'])),\n",
              "                ('scaler', StandardScaler()),\n",
              "                ['model', KMeans(n_clusters=4, random_state=0)]])"
            ]
          },
          "execution_count": 38,
          "metadata": {},
          "output_type": "execute_result"
        }
      ],
      "source": [
        "def PipelineCluster():\n",
        "  pipe = PipelineDataCleaningAndFeatureEngineering()\n",
        "  # pipe.steps.append([\"scaler\",StandardScaler()])   ##################\n",
        "  # pipe.steps.append([\"PCA\",PCA(n_components=6, random_state=0)])\n",
        "  pipe.steps.append([\"model\",KMeans(n_clusters=4, random_state=0)])\n",
        "  return pipe\n",
        "\n",
        "PipelineCluster()"
      ]
    },
    {
      "cell_type": "markdown",
      "metadata": {
        "id": "S4JsUASTfCiE"
      },
      "source": [
        "## Apply PCA and compare to previous PCA"
      ]
    },
    {
      "cell_type": "markdown",
      "metadata": {},
      "source": [
        "YOU DONT NEED TO APPLY PCA, SINCE YOU HAVE ALREADY THE MOST IMPORTANT FEATURES!!!!"
      ]
    },
    {
      "cell_type": "markdown",
      "metadata": {},
      "source": []
    },
    {
      "cell_type": "markdown",
      "metadata": {},
      "source": []
    },
    {
      "cell_type": "markdown",
      "metadata": {},
      "source": []
    },
    {
      "cell_type": "markdown",
      "metadata": {
        "id": "GJs6VtKvfCiS"
      },
      "source": [
        "It needs the dataset after data cleaning and feature engineering"
      ]
    },
    {
      "cell_type": "code",
      "execution_count": null,
      "metadata": {
        "id": "sQ09ogO8fCiS"
      },
      "outputs": [],
      "source": [
        "# pipeline_pca = PipelineDataCleaningAndFeatureEngineering()\n",
        "# df_pca = pipeline_pca.fit_transform(df_reduced)\n",
        "# print(df_pca.shape)"
      ]
    },
    {
      "cell_type": "markdown",
      "metadata": {
        "id": "grI6_LgYfCiU"
      },
      "source": [
        "Apply PCA component"
      ]
    },
    {
      "cell_type": "code",
      "execution_count": null,
      "metadata": {
        "id": "upco-DU-fCiU"
      },
      "outputs": [],
      "source": [
        "# n_components = 5\n",
        "\n",
        "# pca = PCA(n_components=n_components).fit(df_pca)\n",
        "# x_PCA = pca.transform(df_pca) # array with transformed PCA\n",
        "\n",
        "# ComponentsList = [\"Component \" + str(number) for number in range(n_components)]\n",
        "# dfExplVarRatio = pd.DataFrame(\n",
        "#     data= np.round(100 * pca.explained_variance_ratio_ ,2),\n",
        "#     index=ComponentsList,\n",
        "#     columns=['Explained Variance Ratio (%)'])\n",
        "\n",
        "# PercentageOfDataExplained = dfExplVarRatio['Explained Variance Ratio (%)'].sum()\n",
        "\n",
        "# print(f\"* The {n_components} components explain {round(PercentageOfDataExplained,2)}% of the data \\n\")\n",
        "# print(dfExplVarRatio)"
      ]
    },
    {
      "cell_type": "markdown",
      "metadata": {
        "id": "D57ncdQ7hBXe"
      },
      "source": [
        "## Apply Elbow analysis and compare to previous Elbow analysis"
      ]
    },
    {
      "cell_type": "markdown",
      "metadata": {
        "id": "i_Iw99sEhBXr"
      },
      "source": [
        "Prepare data for analysis\n",
        "  * You need to clean and feature engineer your data using the pipeline without the model"
      ]
    },
    {
      "cell_type": "code",
      "execution_count": null,
      "metadata": {},
      "outputs": [],
      "source": [
        "# PipelineCluster()"
      ]
    },
    {
      "cell_type": "code",
      "execution_count": 40,
      "metadata": {
        "id": "D0wqQOM3hBXr"
      },
      "outputs": [
        {
          "name": "stdout",
          "output_type": "stream",
          "text": [
            "(7043, 5) \n",
            "\n"
          ]
        },
        {
          "data": {
            "text/plain": [
              "array([[-1.18077674, -1.16032292, -3.05401039, -1.03453023, -0.65401193],\n",
              "       [ 0.17365495, -0.25962894,  0.32743831,  0.96662231, -0.65401193],\n",
              "       [-1.18077674, -0.36266036,  0.32743831,  0.96662231, -0.65401193],\n",
              "       ...,\n",
              "       [ 0.17365495, -1.1686319 , -3.05401039, -1.03453023,  1.5290241 ],\n",
              "       [ 0.17365495,  0.32033821,  0.32743831, -1.03453023, -0.65401193],\n",
              "       [ 0.17365495,  1.35896134,  0.32743831,  0.96662231, -0.65401193]])"
            ]
          },
          "execution_count": 40,
          "metadata": {},
          "output_type": "execute_result"
        }
      ],
      "source": [
        "pipeline_cluster = PipelineCluster()\n",
        "pipeline_elbow = Pipeline(pipeline_cluster.steps[:-1])\n",
        "df_elbow = pipeline_elbow.fit_transform(df_reduced)\n",
        "\n",
        "print(df_elbow.shape,'\\n')\n",
        "df_elbow"
      ]
    },
    {
      "cell_type": "markdown",
      "metadata": {
        "id": "r_1H05FKhBXs"
      },
      "source": [
        "Elbow Analysis"
      ]
    },
    {
      "cell_type": "code",
      "execution_count": 41,
      "metadata": {
        "id": "nsAJW4s0hBXt"
      },
      "outputs": [
        {
          "data": {
            "image/png": "[encoded data removed]",
            "text/plain": [
              "<Figure size 576x396 with 2 Axes>"
            ]
          },
          "metadata": {},
          "output_type": "display_data"
        }
      ],
      "source": [
        "from yellowbrick.cluster import KElbowVisualizer\n",
        "from sklearn.cluster import KMeans\n",
        "\n",
        "visualizer = KElbowVisualizer(KMeans(random_state=0), k=(1,11))\n",
        "visualizer.fit(df_elbow) \n",
        "visualizer.show() \n",
        "plt.show()"
      ]
    },
    {
      "cell_type": "markdown",
      "metadata": {
        "id": "pFVtLmU5hWyn"
      },
      "source": [
        "The same number of clusters is suggested! :)"
      ]
    },
    {
      "cell_type": "markdown",
      "metadata": {
        "id": "f_T1gtprhe8W"
      },
      "source": [
        "## Fit New Cluster Pipeline"
      ]
    },
    {
      "cell_type": "markdown",
      "metadata": {
        "id": "ZEtzurhOhe8W"
      },
      "source": [
        "We set X as our training set for cluster. It is a copy of df_reduced"
      ]
    },
    {
      "cell_type": "code",
      "execution_count": 42,
      "metadata": {
        "id": "BIZRR3wChe8X"
      },
      "outputs": [
        {
          "name": "stdout",
          "output_type": "stream",
          "text": [
            "(7043, 5)\n"
          ]
        },
        {
          "data": {
            "text/html": [
              "<div>\n",
              "<style scoped>\n",
              "    .dataframe tbody tr th:only-of-type {\n",
              "        vertical-align: middle;\n",
              "    }\n",
              "\n",
              "    .dataframe tbody tr th {\n",
              "        vertical-align: top;\n",
              "    }\n",
              "\n",
              "    .dataframe thead th {\n",
              "        text-align: right;\n",
              "    }\n",
              "</style>\n",
              "<table border=\"1\" class=\"dataframe\">\n",
              "  <thead>\n",
              "    <tr style=\"text-align: right;\">\n",
              "      <th></th>\n",
              "      <th>OnlineBackup</th>\n",
              "      <th>MonthlyCharges</th>\n",
              "      <th>PhoneService</th>\n",
              "      <th>Partner</th>\n",
              "      <th>Dependents</th>\n",
              "    </tr>\n",
              "  </thead>\n",
              "  <tbody>\n",
              "    <tr>\n",
              "      <th>0</th>\n",
              "      <td>Yes</td>\n",
              "      <td>29.85</td>\n",
              "      <td>No</td>\n",
              "      <td>Yes</td>\n",
              "      <td>No</td>\n",
              "    </tr>\n",
              "    <tr>\n",
              "      <th>1</th>\n",
              "      <td>No</td>\n",
              "      <td>56.95</td>\n",
              "      <td>Yes</td>\n",
              "      <td>No</td>\n",
              "      <td>No</td>\n",
              "    </tr>\n",
              "    <tr>\n",
              "      <th>2</th>\n",
              "      <td>Yes</td>\n",
              "      <td>53.85</td>\n",
              "      <td>Yes</td>\n",
              "      <td>No</td>\n",
              "      <td>No</td>\n",
              "    </tr>\n",
              "  </tbody>\n",
              "</table>\n",
              "</div>"
            ],
            "text/plain": [
              "  OnlineBackup  MonthlyCharges PhoneService Partner Dependents\n",
              "0          Yes           29.85           No     Yes         No\n",
              "1           No           56.95          Yes      No         No\n",
              "2          Yes           53.85          Yes      No         No"
            ]
          },
          "execution_count": 42,
          "metadata": {},
          "output_type": "execute_result"
        }
      ],
      "source": [
        "X = df_reduced.copy()\n",
        "print(X.shape)\n",
        "X.head(3)"
      ]
    },
    {
      "cell_type": "markdown",
      "metadata": {
        "id": "O-z3ST3nhe8Z"
      },
      "source": [
        "Fit Cluster pipeline"
      ]
    },
    {
      "cell_type": "code",
      "execution_count": 43,
      "metadata": {
        "id": "AAaEPy3Uhe8Z"
      },
      "outputs": [
        {
          "data": {
            "text/plain": [
              "Pipeline(steps=[('OrdinalCategoricalEncoder',\n",
              "                 OrdinalEncoder(encoding_method='arbitrary',\n",
              "                                variables=['OnlineBackup', 'PhoneService',\n",
              "                                           'Partner', 'Dependents'])),\n",
              "                ('scaler', StandardScaler()),\n",
              "                ['model', KMeans(n_clusters=4, random_state=0)]])"
            ]
          },
          "execution_count": 43,
          "metadata": {},
          "output_type": "execute_result"
        }
      ],
      "source": [
        "pipeline_cluster = PipelineCluster()\n",
        "pipeline_cluster.fit(X)"
      ]
    },
    {
      "cell_type": "markdown",
      "metadata": {
        "id": "_Pdrt5bdKLDF"
      },
      "source": [
        "## Add cluster predictions to dataset"
      ]
    },
    {
      "cell_type": "markdown",
      "metadata": {
        "id": "CdFwZk1ihe8b"
      },
      "source": [
        "We add a column \"Cluster\" to the data and check clusters distribution\n",
        "* Clusters don't look to be imbalanced"
      ]
    },
    {
      "cell_type": "code",
      "execution_count": 44,
      "metadata": {
        "id": "wUwR8vCEhe8b"
      },
      "outputs": [
        {
          "name": "stdout",
          "output_type": "stream",
          "text": [
            "* Clusters frequencies \n",
            "   Clusters\n",
            "1      0.35\n",
            "2      0.33\n",
            "0      0.22\n",
            "3      0.10 \n",
            "\n",
            "\n"
          ]
        },
        {
          "data": {
            "image/png": "[encoded data removed]",
            "text/plain": [
              "<Figure size 576x396 with 1 Axes>"
            ]
          },
          "metadata": {},
          "output_type": "display_data"
        }
      ],
      "source": [
        "X['Clusters'] = pipeline_cluster['model'].labels_\n",
        "\n",
        "print(f\"* Clusters frequencies \\n{ X['Clusters'].value_counts(normalize=True).to_frame().round(2)} \\n\\n\")\n",
        "X['Clusters'].value_counts().sort_values().plot(kind='bar');"
      ]
    },
    {
      "cell_type": "markdown",
      "metadata": {
        "id": "QUxjeMypKOUe"
      },
      "source": [
        "## Compare current cluster labels to previous cluster labels"
      ]
    },
    {
      "cell_type": "markdown",
      "metadata": {
        "id": "w6721kuGiII6"
      },
      "source": [
        "We just fitted a new cluster pipeline and want to compare if its predictions are \"equivalent\" from the previous cluster"
      ]
    },
    {
      "cell_type": "markdown",
      "metadata": {
        "id": "GAS2dDXQhe8c"
      },
      "source": [
        "These are the predictions from the **previous** cluster pipeline "
      ]
    },
    {
      "cell_type": "code",
      "execution_count": 45,
      "metadata": {
        "id": "pbVaUAABhe8c"
      },
      "outputs": [
        {
          "data": {
            "text/plain": [
              "0       1\n",
              "1       0\n",
              "2       0\n",
              "3       1\n",
              "4       0\n",
              "       ..\n",
              "7038    2\n",
              "7039    2\n",
              "7040    1\n",
              "7041    0\n",
              "7042    2\n",
              "Name: Clusters, Length: 7043, dtype: int32"
            ]
          },
          "execution_count": 45,
          "metadata": {},
          "output_type": "execute_result"
        }
      ],
      "source": [
        "cluster_predictions_with_all_variables"
      ]
    },
    {
      "cell_type": "markdown",
      "metadata": {
        "id": "xUiHzLIwimaD"
      },
      "source": [
        "And these are the predictions from **current** cluster pipeline (trained with `df_reduced`)"
      ]
    },
    {
      "cell_type": "code",
      "execution_count": 46,
      "metadata": {
        "id": "_kC7cKKCiwD5"
      },
      "outputs": [
        {
          "data": {
            "text/plain": [
              "0       3\n",
              "1       1\n",
              "2       1\n",
              "3       3\n",
              "4       1\n",
              "       ..\n",
              "7038    2\n",
              "7039    2\n",
              "7040    3\n",
              "7041    2\n",
              "7042    1\n",
              "Name: Clusters, Length: 7043, dtype: int32"
            ]
          },
          "execution_count": 46,
          "metadata": {},
          "output_type": "execute_result"
        }
      ],
      "source": [
        "cluster_anwers_with_major_variables = X['Clusters'] \n",
        "cluster_anwers_with_major_variables"
      ]
    },
    {
      "cell_type": "markdown",
      "metadata": {
        "id": "UgkF8MyyAjTF"
      },
      "source": [
        "---"
      ]
    },
    {
      "cell_type": "markdown",
      "metadata": {
        "id": "3Jt-2n1GidBa"
      },
      "source": [
        "We use a confusion matrix to evaluate if the predictions of both pipelines are **\"equivalent\"**\n",
        "* We say equivalent in quotes, because we can't expect that a cluster label 0 in the previous cluster will have the same label in the current cluster. Eventually label 0 in previous cluster pipeline will be a different label in current cluster pipeline\n",
        "* When we reach this **equivalence**, it means both clusters \"clustered\" in a similar way but with different labels. And this is fine, since the label itself doesn't have meaning. We will look for the meaning after. "
      ]
    },
    {
      "cell_type": "code",
      "execution_count": 47,
      "metadata": {
        "id": "tLy37N1TiiSx"
      },
      "outputs": [
        {
          "name": "stdout",
          "output_type": "stream",
          "text": [
            "[[  26 2163  598    0]\n",
            " [   0    0    0  682]\n",
            " [   3  288 1755    0]\n",
            " [1526    2    0    0]]\n"
          ]
        }
      ],
      "source": [
        "from sklearn.metrics import confusion_matrix\n",
        "print(confusion_matrix(cluster_predictions_with_all_variables, cluster_anwers_with_major_variables))"
      ]
    },
    {
      "cell_type": "markdown",
      "metadata": {
        "id": "aXrL1GUnjz1t"
      },
      "source": [
        "Conclusion\n",
        "* We see that both Clusters Pipelines are not predicting the data 100% equivalent, since few data points have different meaning for each pipeline. \n",
        "* However this is fine, and we say yes for this criteria. This is part of the trade-off we are up to."
      ]
    },
    {
      "cell_type": "markdown",
      "metadata": {
        "id": "VXSU4Tk3mIBv"
      },
      "source": [
        "## Evaluate current Clusters silhouette"
      ]
    },
    {
      "cell_type": "markdown",
      "metadata": {
        "id": "1Fwxo2fPmIB8"
      },
      "source": [
        "* To evaluate clusters silhouete we need:\n",
        "  * data transformed (transform data in the pipeline wihout model step)\n",
        "  * clusters arrays"
      ]
    },
    {
      "cell_type": "code",
      "execution_count": 48,
      "metadata": {
        "id": "1IupILQzmIB9"
      },
      "outputs": [
        {
          "data": {
            "text/plain": [
              "(7043, 5)"
            ]
          },
          "execution_count": 48,
          "metadata": {},
          "output_type": "execute_result"
        }
      ],
      "source": [
        "pipeline_silhouette = Pipeline(pipeline_cluster.steps[:-1])\n",
        "df_transformed = pipeline_silhouette.transform(df_reduced)\n",
        "df_transformed.shape"
      ]
    },
    {
      "cell_type": "markdown",
      "metadata": {
        "id": "ozvP79HimICA"
      },
      "source": [
        "Evaluate Cluster Silhouette"
      ]
    },
    {
      "cell_type": "code",
      "execution_count": 49,
      "metadata": {
        "id": "ohVwnguomICA"
      },
      "outputs": [
        {
          "data": {
            "image/png": "[encoded data removed]",
            "text/plain": [
              "<Figure size 576x396 with 1 Axes>"
            ]
          },
          "metadata": {},
          "output_type": "display_data"
        }
      ],
      "source": [
        "from yellowbrick.cluster import SilhouetteVisualizer\n",
        "visualizer = SilhouetteVisualizer(Pipeline(pipeline_cluster.steps[-1:])[0] , colors='yellowbrick')\n",
        "\n",
        "visualizer.fit(df_transformed)\n",
        "visualizer.show()\n",
        "plt.show()"
      ]
    },
    {
      "cell_type": "markdown",
      "metadata": {
        "id": "h98ivtaamYAx"
      },
      "source": [
        "The silhoutte score from both pipelines are similar! Now it has even increased a bit :)"
      ]
    },
    {
      "cell_type": "markdown",
      "metadata": {
        "id": "fcPfalkwmomc"
      },
      "source": [
        "## Rewrite ML Pipeline for a classifier to explain the clusters"
      ]
    },
    {
      "cell_type": "markdown",
      "metadata": {
        "id": "cIcOSR42momd"
      },
      "source": [
        "We want again to explain the major variables for our clusters"
      ]
    },
    {
      "cell_type": "markdown",
      "metadata": {
        "id": "7ZClC5E5mome"
      },
      "source": [
        "We copy `X` to a DataFrame `df_clf`, just to separate the concerns"
      ]
    },
    {
      "cell_type": "code",
      "execution_count": 50,
      "metadata": {
        "id": "_XoL6tuRmomf"
      },
      "outputs": [
        {
          "name": "stdout",
          "output_type": "stream",
          "text": [
            "(7043, 6)\n"
          ]
        },
        {
          "data": {
            "text/html": [
              "<div>\n",
              "<style scoped>\n",
              "    .dataframe tbody tr th:only-of-type {\n",
              "        vertical-align: middle;\n",
              "    }\n",
              "\n",
              "    .dataframe tbody tr th {\n",
              "        vertical-align: top;\n",
              "    }\n",
              "\n",
              "    .dataframe thead th {\n",
              "        text-align: right;\n",
              "    }\n",
              "</style>\n",
              "<table border=\"1\" class=\"dataframe\">\n",
              "  <thead>\n",
              "    <tr style=\"text-align: right;\">\n",
              "      <th></th>\n",
              "      <th>OnlineBackup</th>\n",
              "      <th>MonthlyCharges</th>\n",
              "      <th>PhoneService</th>\n",
              "      <th>Partner</th>\n",
              "      <th>Dependents</th>\n",
              "      <th>Clusters</th>\n",
              "    </tr>\n",
              "  </thead>\n",
              "  <tbody>\n",
              "    <tr>\n",
              "      <th>0</th>\n",
              "      <td>Yes</td>\n",
              "      <td>29.85</td>\n",
              "      <td>No</td>\n",
              "      <td>Yes</td>\n",
              "      <td>No</td>\n",
              "      <td>3</td>\n",
              "    </tr>\n",
              "    <tr>\n",
              "      <th>1</th>\n",
              "      <td>No</td>\n",
              "      <td>56.95</td>\n",
              "      <td>Yes</td>\n",
              "      <td>No</td>\n",
              "      <td>No</td>\n",
              "      <td>1</td>\n",
              "    </tr>\n",
              "    <tr>\n",
              "      <th>2</th>\n",
              "      <td>Yes</td>\n",
              "      <td>53.85</td>\n",
              "      <td>Yes</td>\n",
              "      <td>No</td>\n",
              "      <td>No</td>\n",
              "      <td>1</td>\n",
              "    </tr>\n",
              "  </tbody>\n",
              "</table>\n",
              "</div>"
            ],
            "text/plain": [
              "  OnlineBackup  MonthlyCharges PhoneService Partner Dependents  Clusters\n",
              "0          Yes           29.85           No     Yes         No         3\n",
              "1           No           56.95          Yes      No         No         1\n",
              "2          Yes           53.85          Yes      No         No         1"
            ]
          },
          "execution_count": 50,
          "metadata": {},
          "output_type": "execute_result"
        }
      ],
      "source": [
        "df_clf = X.copy()\n",
        "print(df_clf.shape)\n",
        "df_clf.head(3)"
      ]
    },
    {
      "cell_type": "markdown",
      "metadata": {
        "id": "PSfwpL-Fmomf"
      },
      "source": [
        "Split Train and Test sets"
      ]
    },
    {
      "cell_type": "code",
      "execution_count": 51,
      "metadata": {
        "id": "sPyXs27Kmomf"
      },
      "outputs": [
        {
          "name": "stdout",
          "output_type": "stream",
          "text": [
            "(5634, 5) (1409, 5)\n"
          ]
        }
      ],
      "source": [
        "from sklearn.model_selection import train_test_split\n",
        "\n",
        "X_train, X_test,y_train, y_test = train_test_split(\n",
        "                                    df_clf.drop(['Clusters'],axis=1),\n",
        "                                    df_clf['Clusters'],\n",
        "                                    test_size=0.2,\n",
        "                                    random_state=0\n",
        "                                    )\n",
        "\n",
        "print(X_train.shape, X_test.shape)"
      ]
    },
    {
      "cell_type": "markdown",
      "metadata": {
        "id": "0W-cV2ts8A_N"
      },
      "source": [
        "Rewrite pipeline to explain clusters"
      ]
    },
    {
      "cell_type": "code",
      "execution_count": 52,
      "metadata": {
        "id": "Lm63GRYP8BIV"
      },
      "outputs": [
        {
          "data": {
            "text/plain": [
              "Pipeline(steps=[('OrdinalCategoricalEncoder',\n",
              "                 OrdinalEncoder(encoding_method='arbitrary',\n",
              "                                variables=['OnlineBackup', 'PhoneService',\n",
              "                                           'Partner', 'Dependents'])),\n",
              "                ('scaler', StandardScaler()),\n",
              "                ['model', GradientBoostingClassifier(random_state=0)]])"
            ]
          },
          "execution_count": 52,
          "metadata": {},
          "output_type": "execute_result"
        }
      ],
      "source": [
        "def PipelineClf2ExplainClusters():\n",
        "   pipe = PipelineDataCleaningAndFeatureEngineering()\n",
        "   # no feature selection step\n",
        "   # pipe.steps.append([\"feat_selection\",SelectFromModel(GradientBoostingClassifier(random_state=0))])\n",
        "   pipe.steps.append([\"model\",GradientBoostingClassifier(random_state=0)])\n",
        "   return pipe\n",
        "\n",
        "PipelineClf2ExplainClusters()\n",
        "\n",
        "\n"
      ]
    },
    {
      "cell_type": "markdown",
      "metadata": {
        "id": "lkaBhgjOmomg"
      },
      "source": [
        "## Fit a classifier, where target is cluster labels and features remaining variables"
      ]
    },
    {
      "cell_type": "markdown",
      "metadata": {
        "id": "zU6mwsFYmomg"
      },
      "source": [
        "Create and fit a classifier pipeline to learn the feature importance when defining a cluster"
      ]
    },
    {
      "cell_type": "code",
      "execution_count": 53,
      "metadata": {
        "id": "w3liI7qjmomg"
      },
      "outputs": [
        {
          "data": {
            "text/plain": [
              "Pipeline(steps=[('OrdinalCategoricalEncoder',\n",
              "                 OrdinalEncoder(encoding_method='arbitrary',\n",
              "                                variables=['OnlineBackup', 'PhoneService',\n",
              "                                           'Partner', 'Dependents'])),\n",
              "                ('scaler', StandardScaler()),\n",
              "                ['model', GradientBoostingClassifier(random_state=0)]])"
            ]
          },
          "execution_count": 53,
          "metadata": {},
          "output_type": "execute_result"
        }
      ],
      "source": [
        "pipeline_clf_cluster = PipelineClf2ExplainClusters()\n",
        "pipeline_clf_cluster.fit(X_train,y_train)"
      ]
    },
    {
      "cell_type": "markdown",
      "metadata": {
        "id": "6hCk6Swrmomh"
      },
      "source": [
        "## Evaluate classifier performance on Train and Test Sets"
      ]
    },
    {
      "cell_type": "code",
      "execution_count": 54,
      "metadata": {
        "id": "ZjXpF0x8momh"
      },
      "outputs": [
        {
          "name": "stdout",
          "output_type": "stream",
          "text": [
            "              precision    recall  f1-score   support\n",
            "\n",
            "           0       1.00      1.00      1.00      1245\n",
            "           1       1.00      1.00      1.00      1955\n",
            "           2       1.00      1.00      1.00      1892\n",
            "           3       1.00      1.00      1.00       542\n",
            "\n",
            "    accuracy                           1.00      5634\n",
            "   macro avg       1.00      1.00      1.00      5634\n",
            "weighted avg       1.00      1.00      1.00      5634\n",
            "\n"
          ]
        }
      ],
      "source": [
        "from sklearn.metrics import classification_report\n",
        "print(classification_report(y_train, pipeline_clf_cluster.predict(X_train)))"
      ]
    },
    {
      "cell_type": "code",
      "execution_count": 55,
      "metadata": {
        "id": "l-Obn_Hcmomh"
      },
      "outputs": [
        {
          "name": "stdout",
          "output_type": "stream",
          "text": [
            "              precision    recall  f1-score   support\n",
            "\n",
            "           0       1.00      1.00      1.00       310\n",
            "           1       1.00      1.00      1.00       498\n",
            "           2       1.00      1.00      1.00       461\n",
            "           3       1.00      1.00      1.00       140\n",
            "\n",
            "    accuracy                           1.00      1409\n",
            "   macro avg       1.00      1.00      1.00      1409\n",
            "weighted avg       1.00      1.00      1.00      1409\n",
            "\n"
          ]
        }
      ],
      "source": [
        "print(classification_report(y_test, pipeline_clf_cluster.predict(X_test)))"
      ]
    },
    {
      "cell_type": "markdown",
      "metadata": {
        "id": "X-KlCS6MnBLk"
      },
      "source": [
        "The performance on Train and Test sets are similar, comparing to the previous pipeline! :)"
      ]
    },
    {
      "cell_type": "markdown",
      "metadata": {
        "id": "G07251XWmomh"
      },
      "source": [
        "## Assess Most Important Features"
      ]
    },
    {
      "cell_type": "markdown",
      "metadata": {
        "id": "BE0E0QkbKv-Z"
      },
      "source": [
        "They help the most to define a cluster, compare with previous pipeline\n",
        "* we can use .feature_importances_ since it is a tree based model\n",
        "* since we don't have feature selection step, we just get best_features as the Xtrain columns\n"
      ]
    },
    {
      "cell_type": "code",
      "execution_count": 56,
      "metadata": {},
      "outputs": [
        {
          "data": {
            "text/plain": [
              "Pipeline(steps=[('OrdinalCategoricalEncoder',\n",
              "                 OrdinalEncoder(encoding_method='arbitrary',\n",
              "                                variables=['OnlineBackup', 'PhoneService',\n",
              "                                           'Partner', 'Dependents'])),\n",
              "                ('scaler', StandardScaler()),\n",
              "                ['model', GradientBoostingClassifier(random_state=0)]])"
            ]
          },
          "execution_count": 56,
          "metadata": {},
          "output_type": "execute_result"
        }
      ],
      "source": [
        "# Pipeline(pipeline_clf_cluster.steps[:data_cleaning_feat_eng_steps]).transform(X_train).columns\n",
        "pipeline_clf_cluster"
      ]
    },
    {
      "cell_type": "code",
      "execution_count": 57,
      "metadata": {
        "id": "IMTUNBYN8fyf"
      },
      "outputs": [
        {
          "name": "stdout",
          "output_type": "stream",
          "text": [
            "* These are the 5 most important features in descending order. The model was trained on them: \n",
            "['Partner', 'OnlineBackup', 'MonthlyCharges', 'PhoneService', 'Dependents']\n"
          ]
        },
        {
          "data": {
            "image/png": "[encoded data removed]",
            "text/plain": [
              "<Figure size 576x396 with 1 Axes>"
            ]
          },
          "metadata": {},
          "output_type": "display_data"
        }
      ],
      "source": [
        "best_features = X_train.columns.to_list()\n",
        "\n",
        "\n",
        "# after data cleaning and feat engineering, the feature space changes\n",
        "# data_cleaning_feat_eng_steps = 1 # how many data cleaning and feature engineering does your pipeline have?\n",
        "# columns_after_data_cleaning_feat_eng = (Pipeline(pipeline_clf_cluster.steps[:data_cleaning_feat_eng_steps])\n",
        "#                                         .transform(X_train)\n",
        "#                                         .columns)\n",
        "\n",
        "# best_features = columns_after_data_cleaning_feat_eng[pipeline_clf_cluster['feat_selection'].get_support()].to_list()\n",
        "\n",
        "\n",
        "# create DataFrame to display feature importance\n",
        "df_feature_importance = (pd.DataFrame(data={\n",
        "    'Feature':best_features,\n",
        "    'Importance': pipeline_clf_cluster['model'].feature_importances_})\n",
        ".sort_values(by='Importance', ascending=False)\n",
        ")\n",
        "\n",
        "best_features = df_feature_importance['Feature'].to_list()\n",
        "\n",
        "# Most important features statement and plot\n",
        "print(f\"* These are the {len(best_features)} most important features in descending order. \"\n",
        "      f\"The model was trained on them: \\n{df_feature_importance['Feature'].to_list()}\")\n",
        "\n",
        "df_feature_importance.plot(kind='bar',x='Feature',y='Importance')\n",
        "plt.show()"
      ]
    },
    {
      "cell_type": "markdown",
      "metadata": {
        "id": "9q1TJSqdI6xK"
      },
      "source": [
        "## Cluster Analysis"
      ]
    },
    {
      "cell_type": "markdown",
      "metadata": {
        "id": "C8EMIqE5I6xP"
      },
      "source": [
        "We will study the profile for the main variables that define a cluster\n"
      ]
    },
    {
      "cell_type": "code",
      "execution_count": 58,
      "metadata": {
        "id": "TEg92vdnI6xP"
      },
      "outputs": [
        {
          "data": {
            "text/html": [
              "<div>\n",
              "<style scoped>\n",
              "    .dataframe tbody tr th:only-of-type {\n",
              "        vertical-align: middle;\n",
              "    }\n",
              "\n",
              "    .dataframe tbody tr th {\n",
              "        vertical-align: top;\n",
              "    }\n",
              "\n",
              "    .dataframe thead th {\n",
              "        text-align: right;\n",
              "    }\n",
              "</style>\n",
              "<table border=\"1\" class=\"dataframe\">\n",
              "  <thead>\n",
              "    <tr style=\"text-align: right;\">\n",
              "      <th></th>\n",
              "      <th>Partner</th>\n",
              "      <th>OnlineBackup</th>\n",
              "      <th>MonthlyCharges</th>\n",
              "      <th>PhoneService</th>\n",
              "      <th>Dependents</th>\n",
              "      <th>Clusters</th>\n",
              "    </tr>\n",
              "  </thead>\n",
              "  <tbody>\n",
              "    <tr>\n",
              "      <th>0</th>\n",
              "      <td>Yes</td>\n",
              "      <td>Yes</td>\n",
              "      <td>29.85</td>\n",
              "      <td>No</td>\n",
              "      <td>No</td>\n",
              "      <td>3</td>\n",
              "    </tr>\n",
              "    <tr>\n",
              "      <th>1</th>\n",
              "      <td>No</td>\n",
              "      <td>No</td>\n",
              "      <td>56.95</td>\n",
              "      <td>Yes</td>\n",
              "      <td>No</td>\n",
              "      <td>1</td>\n",
              "    </tr>\n",
              "    <tr>\n",
              "      <th>2</th>\n",
              "      <td>No</td>\n",
              "      <td>Yes</td>\n",
              "      <td>53.85</td>\n",
              "      <td>Yes</td>\n",
              "      <td>No</td>\n",
              "      <td>1</td>\n",
              "    </tr>\n",
              "  </tbody>\n",
              "</table>\n",
              "</div>"
            ],
            "text/plain": [
              "  Partner OnlineBackup  MonthlyCharges PhoneService Dependents  Clusters\n",
              "0     Yes          Yes           29.85           No         No         3\n",
              "1      No           No           56.95          Yes         No         1\n",
              "2      No          Yes           53.85          Yes         No         1"
            ]
          },
          "execution_count": 58,
          "metadata": {},
          "output_type": "execute_result"
        }
      ],
      "source": [
        "df_cluster_profile = df_clf.copy()\n",
        "df_cluster_profile = df_cluster_profile.filter(items=best_features + ['Clusters'], axis=1)\n",
        "df_cluster_profile.head(3)"
      ]
    },
    {
      "cell_type": "markdown",
      "metadata": {
        "id": "789CeA0WI6xQ"
      },
      "source": [
        "Load Churn levels"
      ]
    },
    {
      "cell_type": "code",
      "execution_count": 59,
      "metadata": {
        "id": "Nx335aqtI6xR"
      },
      "outputs": [
        {
          "data": {
            "text/html": [
              "<div>\n",
              "<style scoped>\n",
              "    .dataframe tbody tr th:only-of-type {\n",
              "        vertical-align: middle;\n",
              "    }\n",
              "\n",
              "    .dataframe tbody tr th {\n",
              "        vertical-align: top;\n",
              "    }\n",
              "\n",
              "    .dataframe thead th {\n",
              "        text-align: right;\n",
              "    }\n",
              "</style>\n",
              "<table border=\"1\" class=\"dataframe\">\n",
              "  <thead>\n",
              "    <tr style=\"text-align: right;\">\n",
              "      <th></th>\n",
              "      <th>Churn</th>\n",
              "    </tr>\n",
              "  </thead>\n",
              "  <tbody>\n",
              "    <tr>\n",
              "      <th>0</th>\n",
              "      <td>0</td>\n",
              "    </tr>\n",
              "    <tr>\n",
              "      <th>1</th>\n",
              "      <td>0</td>\n",
              "    </tr>\n",
              "    <tr>\n",
              "      <th>2</th>\n",
              "      <td>1</td>\n",
              "    </tr>\n",
              "  </tbody>\n",
              "</table>\n",
              "</div>"
            ],
            "text/plain": [
              "  Churn\n",
              "0     0\n",
              "1     0\n",
              "2     1"
            ]
          },
          "execution_count": 59,
          "metadata": {},
          "output_type": "execute_result"
        }
      ],
      "source": [
        "df_churn = pd.read_csv(\"outputs/datasets/collection/TelcoCustomerChurn.csv\").filter(['Churn'])\n",
        "df_churn['Churn'] = df_churn['Churn'].astype('object')\n",
        "df_churn.head(3)"
      ]
    },
    {
      "cell_type": "markdown",
      "metadata": {
        "id": "f-7jYzhtI6xR"
      },
      "source": [
        "### Cluster profile on most important features"
      ]
    },
    {
      "cell_type": "markdown",
      "metadata": {
        "id": "7Yi0fwrTI6xR"
      },
      "source": [
        "Considering `df_cluster_profile` and `df_churn`"
      ]
    },
    {
      "cell_type": "code",
      "execution_count": 60,
      "metadata": {
        "id": "urBmw5HJI6xS"
      },
      "outputs": [
        {
          "data": {
            "text/html": [
              "<div>\n",
              "<style scoped>\n",
              "    .dataframe tbody tr th:only-of-type {\n",
              "        vertical-align: middle;\n",
              "    }\n",
              "\n",
              "    .dataframe tbody tr th {\n",
              "        vertical-align: top;\n",
              "    }\n",
              "\n",
              "    .dataframe thead th {\n",
              "        text-align: right;\n",
              "    }\n",
              "</style>\n",
              "<table border=\"1\" class=\"dataframe\">\n",
              "  <thead>\n",
              "    <tr style=\"text-align: right;\">\n",
              "      <th></th>\n",
              "      <th>Partner</th>\n",
              "      <th>OnlineBackup</th>\n",
              "      <th>MonthlyCharges</th>\n",
              "      <th>PhoneService</th>\n",
              "      <th>Dependents</th>\n",
              "      <th>Churn</th>\n",
              "    </tr>\n",
              "    <tr>\n",
              "      <th>Cluster</th>\n",
              "      <th></th>\n",
              "      <th></th>\n",
              "      <th></th>\n",
              "      <th></th>\n",
              "      <th></th>\n",
              "      <th></th>\n",
              "    </tr>\n",
              "  </thead>\n",
              "  <tbody>\n",
              "    <tr>\n",
              "      <th>0</th>\n",
              "      <td>'No': 53% , 'Yes': 47%</td>\n",
              "      <td>'No internet service': 98% , 'No': 2%</td>\n",
              "      <td>20 -- 21</td>\n",
              "      <td>'Yes': 100%</td>\n",
              "      <td>'No': 57% , 'Yes': 43%</td>\n",
              "      <td>'0': 92% , '1': 8%</td>\n",
              "    </tr>\n",
              "    <tr>\n",
              "      <th>1</th>\n",
              "      <td>'No': 100%</td>\n",
              "      <td>'No': 64% , 'Yes': 36%</td>\n",
              "      <td>67 -- 93</td>\n",
              "      <td>'Yes': 100%</td>\n",
              "      <td>'No': 93% , 'Yes': 7%</td>\n",
              "      <td>'0': 59% , '1': 41%</td>\n",
              "    </tr>\n",
              "    <tr>\n",
              "      <th>2</th>\n",
              "      <td>'Yes': 100%</td>\n",
              "      <td>'Yes': 53% , 'No': 47%</td>\n",
              "      <td>74 -- 100</td>\n",
              "      <td>'Yes': 100%</td>\n",
              "      <td>'No': 55% , 'Yes': 45%</td>\n",
              "      <td>'0': 75% , '1': 25%</td>\n",
              "    </tr>\n",
              "    <tr>\n",
              "      <th>3</th>\n",
              "      <td>'No': 54% , 'Yes': 46%</td>\n",
              "      <td>'No': 58% , 'Yes': 42%</td>\n",
              "      <td>34 -- 51</td>\n",
              "      <td>'No': 100%</td>\n",
              "      <td>'No': 70% , 'Yes': 30%</td>\n",
              "      <td>'0': 75% , '1': 25%</td>\n",
              "    </tr>\n",
              "  </tbody>\n",
              "</table>\n",
              "</div>"
            ],
            "text/plain": [
              "                         Partner                            OnlineBackup  \\\n",
              "Cluster                                                                    \n",
              "0        'No': 53% , 'Yes': 47%   'No internet service': 98% , 'No': 2%    \n",
              "1                    'No': 100%                  'No': 64% , 'Yes': 36%    \n",
              "2                   'Yes': 100%                  'Yes': 53% , 'No': 47%    \n",
              "3        'No': 54% , 'Yes': 46%                  'No': 58% , 'Yes': 42%    \n",
              "\n",
              "        MonthlyCharges  PhoneService               Dependents  \\\n",
              "Cluster                                                         \n",
              "0             20 -- 21  'Yes': 100%   'No': 57% , 'Yes': 43%    \n",
              "1             67 -- 93  'Yes': 100%    'No': 93% , 'Yes': 7%    \n",
              "2            74 -- 100  'Yes': 100%   'No': 55% , 'Yes': 45%    \n",
              "3             34 -- 51   'No': 100%   'No': 70% , 'Yes': 30%    \n",
              "\n",
              "                        Churn  \n",
              "Cluster                        \n",
              "0         '0': 92% , '1': 8%   \n",
              "1        '0': 59% , '1': 41%   \n",
              "2        '0': 75% , '1': 25%   \n",
              "3        '0': 75% , '1': 25%   "
            ]
          },
          "execution_count": 60,
          "metadata": {},
          "output_type": "execute_result"
        }
      ],
      "source": [
        "pd.set_option('display.max_colwidth', None)\n",
        "clusters_profile = DescriptionAllClusters(pd.concat([df_cluster_profile,df_churn], axis=1))\n",
        "clusters_profile"
      ]
    },
    {
      "cell_type": "markdown",
      "metadata": {
        "id": "LDJRuBBgI6xS"
      },
      "source": [
        "### Clusters distribution across Churn levels & Relative Percentage of Churn in each cluster"
      ]
    },
    {
      "cell_type": "code",
      "execution_count": null,
      "metadata": {
        "id": "ZjMnAqYKI6xS"
      },
      "outputs": [],
      "source": [
        "df_cluster_vs_churn=  df_churn.copy()\n",
        "df_cluster_vs_churn['Clusters'] = X['Clusters']\n",
        "cluster_distribution_per_variable(df=df_cluster_vs_churn, target='Churn')"
      ]
    },
    {
      "cell_type": "markdown",
      "metadata": {
        "id": "4xhPLbC4dwXL"
      },
      "source": [
        "## Which pipeline should I keep?"
      ]
    },
    {
      "cell_type": "markdown",
      "metadata": {
        "id": "-8qASh5k1jph"
      },
      "source": [
        "Let's recap the criteria we consider to evaluate the **trade-off**\n",
        "1. Conduct a PCA analysis, with the same amount of components from \n",
        "previous study, in a dataset only with `best_features_pipeline_all_variables` and check if new components have still almost all data variance \n",
        "2. Conduct a elbow study and check if the same number of clusters is suggested\n",
        "3. Fit new cluster pipeline and compare if the both clusters predictions are \"equivalent\"\n",
        "4. Compare silhoutte score\n",
        "5. Fit a classifier to explain cluster, and check if performance on Train and Test sets is similar\n",
        "6. Check if the most important features for the classifier are the same.\n",
        "7. Compare if the cluster profile from both cases are \"equivalent\""
      ]
    },
    {
      "cell_type": "markdown",
      "metadata": {
        "id": "hPbS7JYN101K"
      },
      "source": [
        "We are happy with all criteria above for the new Cluster Pipeline\n",
        "\n",
        "* All 7 criteria support the second pipeline. In addition, there is a great gain to have less variables for predicting live data"
      ]
    },
    {
      "cell_type": "code",
      "execution_count": 62,
      "metadata": {
        "id": "a4HsuSuqd0g_"
      },
      "outputs": [
        {
          "data": {
            "text/plain": [
              "Pipeline(steps=[('OrdinalCategoricalEncoder',\n",
              "                 OrdinalEncoder(encoding_method='arbitrary',\n",
              "                                variables=['OnlineBackup', 'PhoneService',\n",
              "                                           'Partner', 'Dependents'])),\n",
              "                ('scaler', StandardScaler()),\n",
              "                ['model', KMeans(n_clusters=4, random_state=0)]])"
            ]
          },
          "execution_count": 62,
          "metadata": {},
          "output_type": "execute_result"
        }
      ],
      "source": [
        "pipeline_cluster"
      ]
    },
    {
      "cell_type": "markdown",
      "metadata": {
        "id": "4zxpjktKd1n6"
      },
      "source": [
        "# Push files to Repo"
      ]
    },
    {
      "cell_type": "markdown",
      "metadata": {
        "id": "5i9X1oOORAQc"
      },
      "source": [
        "\n",
        "We will generate the following files\n",
        "\n",
        "* Cluster Pipeline\n",
        "* Train Set\n",
        "* Feature importance plot\n",
        "* Clusters Description\n",
        "* Cluster Silhouette\n"
      ]
    },
    {
      "cell_type": "code",
      "execution_count": null,
      "metadata": {
        "id": "5ySBIrV1Q4cY"
      },
      "outputs": [],
      "source": [
        "import joblib\n",
        "import os\n",
        "\n",
        "version = 'v1'\n",
        "file_path = f'outputs/ml_pipeline/cluster_analysis/{version}'\n",
        "\n",
        "try:\n",
        "  os.makedirs(name=file_path)\n",
        "except Exception as e:\n",
        "  print(e)"
      ]
    },
    {
      "cell_type": "markdown",
      "metadata": {
        "id": "6y9-0fisd5cl"
      },
      "source": [
        "## Cluster pipeline"
      ]
    },
    {
      "cell_type": "code",
      "execution_count": null,
      "metadata": {
        "id": "Xfv9k5xMd7fv"
      },
      "outputs": [],
      "source": [
        "pipeline_cluster"
      ]
    },
    {
      "cell_type": "code",
      "execution_count": null,
      "metadata": {
        "id": "IsphnIR84hJ4"
      },
      "outputs": [],
      "source": [
        "joblib.dump(value=pipeline_cluster ,\n",
        "            filename=f\"{file_path}/cluster_pipeline.pkl\")"
      ]
    },
    {
      "cell_type": "markdown",
      "metadata": {
        "id": "_ORnkwG6d74O"
      },
      "source": [
        "## Train Set"
      ]
    },
    {
      "cell_type": "code",
      "execution_count": 63,
      "metadata": {
        "id": "QqcwHaVwd9Ff"
      },
      "outputs": [
        {
          "name": "stdout",
          "output_type": "stream",
          "text": [
            "(7043, 5)\n"
          ]
        },
        {
          "data": {
            "text/html": [
              "<div>\n",
              "<style scoped>\n",
              "    .dataframe tbody tr th:only-of-type {\n",
              "        vertical-align: middle;\n",
              "    }\n",
              "\n",
              "    .dataframe tbody tr th {\n",
              "        vertical-align: top;\n",
              "    }\n",
              "\n",
              "    .dataframe thead th {\n",
              "        text-align: right;\n",
              "    }\n",
              "</style>\n",
              "<table border=\"1\" class=\"dataframe\">\n",
              "  <thead>\n",
              "    <tr style=\"text-align: right;\">\n",
              "      <th></th>\n",
              "      <th>OnlineBackup</th>\n",
              "      <th>MonthlyCharges</th>\n",
              "      <th>PhoneService</th>\n",
              "      <th>Partner</th>\n",
              "      <th>Dependents</th>\n",
              "    </tr>\n",
              "  </thead>\n",
              "  <tbody>\n",
              "    <tr>\n",
              "      <th>0</th>\n",
              "      <td>Yes</td>\n",
              "      <td>29.85</td>\n",
              "      <td>No</td>\n",
              "      <td>Yes</td>\n",
              "      <td>No</td>\n",
              "    </tr>\n",
              "    <tr>\n",
              "      <th>1</th>\n",
              "      <td>No</td>\n",
              "      <td>56.95</td>\n",
              "      <td>Yes</td>\n",
              "      <td>No</td>\n",
              "      <td>No</td>\n",
              "    </tr>\n",
              "    <tr>\n",
              "      <th>2</th>\n",
              "      <td>Yes</td>\n",
              "      <td>53.85</td>\n",
              "      <td>Yes</td>\n",
              "      <td>No</td>\n",
              "      <td>No</td>\n",
              "    </tr>\n",
              "  </tbody>\n",
              "</table>\n",
              "</div>"
            ],
            "text/plain": [
              "  OnlineBackup  MonthlyCharges PhoneService Partner Dependents\n",
              "0          Yes           29.85           No     Yes         No\n",
              "1           No           56.95          Yes      No         No\n",
              "2          Yes           53.85          Yes      No         No"
            ]
          },
          "execution_count": 63,
          "metadata": {},
          "output_type": "execute_result"
        }
      ],
      "source": [
        "print(df_reduced.shape)\n",
        "df_reduced.head(3)"
      ]
    },
    {
      "cell_type": "code",
      "execution_count": null,
      "metadata": {
        "id": "M26MiJ9Y485Q"
      },
      "outputs": [],
      "source": [
        "df_reduced.to_csv(f\"{file_path}/TrainSet.csv\", index=False)"
      ]
    },
    {
      "cell_type": "markdown",
      "metadata": {
        "id": "eX_lcQVXaV0p"
      },
      "source": [
        "## Most important features plot"
      ]
    },
    {
      "cell_type": "markdown",
      "metadata": {
        "id": "o9datNfsLCVV"
      },
      "source": [
        "These are the features that define a cluster"
      ]
    },
    {
      "cell_type": "code",
      "execution_count": null,
      "metadata": {
        "id": "FYeoH7fjaV8J"
      },
      "outputs": [],
      "source": [
        "df_feature_importance.plot(kind='bar',x='Feature',y='Importance')\n",
        "plt.show()"
      ]
    },
    {
      "cell_type": "code",
      "execution_count": null,
      "metadata": {
        "id": "sr0cVVQsaZqk"
      },
      "outputs": [],
      "source": [
        "df_feature_importance.plot(kind='bar',x='Feature',y='Importance')\n",
        "plt.savefig(f\"{file_path}/features_define_cluster.png\", bbox_inches='tight', dpi=150)"
      ]
    },
    {
      "cell_type": "markdown",
      "metadata": {
        "id": "GX3Z5ivNd9mw"
      },
      "source": [
        "## Cluster Profile"
      ]
    },
    {
      "cell_type": "code",
      "execution_count": null,
      "metadata": {
        "id": "tw-mEnI8d_Bv"
      },
      "outputs": [],
      "source": [
        "clusters_profile"
      ]
    },
    {
      "cell_type": "code",
      "execution_count": null,
      "metadata": {
        "id": "7G5CsAl738p7"
      },
      "outputs": [],
      "source": [
        "clusters_profile.to_csv(f\"{file_path}/clusters_profile.csv\")"
      ]
    },
    {
      "cell_type": "markdown",
      "metadata": {
        "id": "RObeac1HQq5a"
      },
      "source": [
        "## Cluster silhouette plot"
      ]
    },
    {
      "cell_type": "code",
      "execution_count": null,
      "metadata": {},
      "outputs": [],
      "source": [
        "visualizer = SilhouetteVisualizer(Pipeline(pipeline_cluster.steps[-1:])[0] , colors='yellowbrick')\n",
        "\n",
        "visualizer.fit(df_transformed)\n",
        "visualizer.show()\n",
        "plt.show()"
      ]
    },
    {
      "cell_type": "code",
      "execution_count": null,
      "metadata": {},
      "outputs": [],
      "source": [
        "fig, axes = plt.subplots(figsize=(7,5))\n",
        "fig = SilhouetteVisualizer(Pipeline(pipeline_cluster.steps[-1:])[0] , colors='yellowbrick', ax=axes)\n",
        "fig.fit(df_transformed)\n",
        "\n",
        "plt.savefig(f\"{file_path}/clusters_silhouette.png\", bbox_inches='tight',dpi=150)"
      ]
    },
    {
      "cell_type": "markdown",
      "metadata": {
        "id": "TeIEUrWkJ-6_"
      },
      "source": [
        "Good job, clear the cell ouputs, run git commands to add, commit and push files to the repo. Next, we will move on to create our dashboard!"
      ]
    }
  ],
  "metadata": {
    "accelerator": "GPU",
    "colab": {
      "name": "Modeling and Evaluation - Cluster Sklearn.ipynb",
      "provenance": [],
      "toc_visible": true
    },
    "interpreter": {
      "hash": "8b8334dab9339717f727a1deaf837b322d7a41c20d15cc86be99a8e69ceec8ce"
    },
    "kernelspec": {
      "display_name": "Python 3.8.12 64-bit ('3.8.12': pyenv)",
      "name": "python3"
    },
    "language_info": {
      "codemirror_mode": {
        "name": "ipython",
        "version": 3
      },
      "file_extension": ".py",
      "mimetype": "text/x-python",
      "name": "python",
      "nbconvert_exporter": "python",
      "pygments_lexer": "ipython3",
      "version": "3.8.12"
    },
    "orig_nbformat": 2
  },
  "nbformat": 4,
  "nbformat_minor": 2
}
